{
 "cells": [
  {
   "cell_type": "code",
   "execution_count": 2,
   "metadata": {},
   "outputs": [],
   "source": [
    "from multiprocessing import Pool\n",
    "from __init__ import *"
   ]
  },
  {
   "cell_type": "code",
   "execution_count": 3,
   "metadata": {},
   "outputs": [
    {
     "data": {
      "text/plain": [
       "<module 'Simulation' from 'c:\\\\Users\\\\shuai.song\\\\data\\\\Causis\\\\CTA_Trend\\\\Simulation.py'>"
      ]
     },
     "execution_count": 3,
     "metadata": {},
     "output_type": "execute_result"
    }
   ],
   "source": [
    "import Setting as _C\n",
    "reload(_C)\n",
    "import utils as _U\n",
    "reload(_U)\n",
    "import Simulation as sim\n",
    "reload(sim)"
   ]
  },
  {
   "cell_type": "code",
   "execution_count": 6,
   "metadata": {},
   "outputs": [],
   "source": [
    "## Multprocessing Usage Restrictions\n",
    "if __name__ == \"__main__\":\n",
    "    pool = Pool(8)\n",
    "    for i in range(len(_C.commodities.keys())):\n",
    "        pool.apply_async(func=sim.wrapper_simulation, args=(list(_C.commodities.keys())[i], True, 0, False))\n",
    "    \n",
    "    pool.close()\n",
    "    pool.join()"
   ]
  },
  {
   "cell_type": "code",
   "execution_count": 4,
   "metadata": {},
   "outputs": [
    {
     "name": "stdout",
     "output_type": "stream",
     "text": [
      "======= p:9/15 =======\n",
      "[Feature and Trigger]     | 2022-08-23 16:08:03 Done | Using  30.049 seconds\n"
     ]
    },
    {
     "ename": "UnboundLocalError",
     "evalue": "local variable 'd2' referenced before assignment",
     "output_type": "error",
     "traceback": [
      "\u001b[1;31m---------------------------------------------------------------------------\u001b[0m",
      "\u001b[1;31mUnboundLocalError\u001b[0m                         Traceback (most recent call last)",
      "\u001b[1;32m<ipython-input-4-403b85a8689a>\u001b[0m in \u001b[0;36m<module>\u001b[1;34m\u001b[0m\n\u001b[1;32m----> 1\u001b[1;33m \u001b[0msim\u001b[0m\u001b[1;33m.\u001b[0m\u001b[0mwrapper_simulation\u001b[0m\u001b[1;33m(\u001b[0m\u001b[1;34m'p'\u001b[0m\u001b[1;33m,\u001b[0m \u001b[1;32mTrue\u001b[0m\u001b[1;33m,\u001b[0m \u001b[1;36m0\u001b[0m\u001b[1;33m,\u001b[0m \u001b[1;32mTrue\u001b[0m\u001b[1;33m)\u001b[0m\u001b[1;33m\u001b[0m\u001b[1;33m\u001b[0m\u001b[0m\n\u001b[0m",
      "\u001b[1;32mc:\\Users\\shuai.song\\data\\Causis\\CTA_Trend\\Simulation.py\u001b[0m in \u001b[0;36mwrapper_simulation\u001b[1;34m(scom_, sig_filter_, backtest_tick_, logger_, f_save)\u001b[0m\n\u001b[0;32m    297\u001b[0m \u001b[1;31m## wrapper for multi-process running\u001b[0m\u001b[1;33m\u001b[0m\u001b[1;33m\u001b[0m\u001b[1;33m\u001b[0m\u001b[0m\n\u001b[0;32m    298\u001b[0m \u001b[1;32mdef\u001b[0m \u001b[0mwrapper_simulation\u001b[0m\u001b[1;33m(\u001b[0m\u001b[0mscom_\u001b[0m\u001b[1;33m,\u001b[0m \u001b[0msig_filter_\u001b[0m\u001b[1;33m,\u001b[0m \u001b[0mbacktest_tick_\u001b[0m\u001b[1;33m,\u001b[0m \u001b[0mlogger_\u001b[0m\u001b[1;33m,\u001b[0m \u001b[0mf_save\u001b[0m\u001b[1;33m=\u001b[0m\u001b[1;32mTrue\u001b[0m\u001b[1;33m)\u001b[0m\u001b[1;33m:\u001b[0m\u001b[1;33m\u001b[0m\u001b[1;33m\u001b[0m\u001b[0m\n\u001b[1;32m--> 299\u001b[1;33m     \u001b[0mbalance\u001b[0m\u001b[1;33m,\u001b[0m \u001b[0msym_logs\u001b[0m \u001b[1;33m=\u001b[0m \u001b[0mSimulation_all_in_one\u001b[0m\u001b[1;33m(\u001b[0m\u001b[0mscom_\u001b[0m\u001b[1;33m,\u001b[0m \u001b[0msig_filter_\u001b[0m\u001b[1;33m,\u001b[0m \u001b[0mbacktest_tick_\u001b[0m\u001b[1;33m,\u001b[0m \u001b[0mlogger_\u001b[0m\u001b[1;33m,\u001b[0m \u001b[0mf_save\u001b[0m\u001b[1;33m)\u001b[0m\u001b[1;33m\u001b[0m\u001b[1;33m\u001b[0m\u001b[0m\n\u001b[0m\u001b[0;32m    300\u001b[0m     \u001b[1;31m## save files\u001b[0m\u001b[1;33m\u001b[0m\u001b[1;33m\u001b[0m\u001b[1;33m\u001b[0m\u001b[0m\n\u001b[0;32m    301\u001b[0m     \u001b[0mbalance\u001b[0m\u001b[1;33m.\u001b[0m\u001b[0mto_csv\u001b[0m\u001b[1;33m(\u001b[0m\u001b[1;34mf'./output/balance_sheet/{scom_}_balance.csv'\u001b[0m\u001b[1;33m)\u001b[0m\u001b[1;33m\u001b[0m\u001b[1;33m\u001b[0m\u001b[0m\n",
      "\u001b[1;32mc:\\Users\\shuai.song\\data\\Causis\\CTA_Trend\\Simulation.py\u001b[0m in \u001b[0;36mSimulation_all_in_one\u001b[1;34m(scom, sig_filter, backtest_tick, logger, f_save)\u001b[0m\n\u001b[0;32m    282\u001b[0m \u001b[1;33m\u001b[0m\u001b[0m\n\u001b[0;32m    283\u001b[0m     \u001b[1;32mwith\u001b[0m \u001b[0m_U\u001b[0m\u001b[1;33m.\u001b[0m\u001b[0mtimer\u001b[0m\u001b[1;33m(\u001b[0m\u001b[1;34m'Trading trace'\u001b[0m\u001b[1;33m,\u001b[0m \u001b[1;36m25\u001b[0m\u001b[1;33m,\u001b[0m \u001b[0mlogger\u001b[0m\u001b[1;33m)\u001b[0m\u001b[1;33m:\u001b[0m\u001b[1;33m\u001b[0m\u001b[1;33m\u001b[0m\u001b[0m\n\u001b[1;32m--> 284\u001b[1;33m         \u001b[0mlogs\u001b[0m \u001b[1;33m=\u001b[0m \u001b[0mTrading_trace\u001b[0m\u001b[1;33m(\u001b[0m\u001b[0mCOM_5\u001b[0m\u001b[1;33m,\u001b[0m \u001b[0mTICK\u001b[0m\u001b[1;33m,\u001b[0m \u001b[0mCOM_5_VTD\u001b[0m\u001b[1;33m)\u001b[0m\u001b[1;33m\u001b[0m\u001b[1;33m\u001b[0m\u001b[0m\n\u001b[0m\u001b[0;32m    285\u001b[0m \u001b[1;33m\u001b[0m\u001b[0m\n\u001b[0;32m    286\u001b[0m     \u001b[0mdc_change\u001b[0m \u001b[1;33m=\u001b[0m \u001b[0mDominant_change\u001b[0m\u001b[1;33m(\u001b[0m\u001b[0mscom\u001b[0m\u001b[1;33m,\u001b[0m \u001b[0mCOM_5_VTD\u001b[0m\u001b[1;33m)\u001b[0m\u001b[1;33m\u001b[0m\u001b[1;33m\u001b[0m\u001b[0m\n",
      "\u001b[1;32mc:\\Users\\shuai.song\\data\\Causis\\CTA_Trend\\Simulation.py\u001b[0m in \u001b[0;36mTrading_trace\u001b[1;34m(COM_5, tick, COM_5_VTD)\u001b[0m\n\u001b[0;32m    165\u001b[0m \u001b[1;33m\u001b[0m\u001b[0m\n\u001b[0;32m    166\u001b[0m     \u001b[1;31m## patch some potential error\u001b[0m\u001b[1;33m\u001b[0m\u001b[1;33m\u001b[0m\u001b[1;33m\u001b[0m\u001b[0m\n\u001b[1;32m--> 167\u001b[1;33m     \u001b[0mtrading_log_buy\u001b[0m \u001b[1;33m=\u001b[0m \u001b[0mlog_patch\u001b[0m\u001b[1;33m(\u001b[0m\u001b[0mtrading_log_buy\u001b[0m\u001b[1;33m)\u001b[0m\u001b[1;33m\u001b[0m\u001b[1;33m\u001b[0m\u001b[0m\n\u001b[0m\u001b[0;32m    168\u001b[0m     \u001b[0mtrading_log_sell\u001b[0m \u001b[1;33m=\u001b[0m \u001b[0mlog_patch\u001b[0m\u001b[1;33m(\u001b[0m\u001b[0mtrading_log_sell\u001b[0m\u001b[1;33m)\u001b[0m\u001b[1;33m\u001b[0m\u001b[1;33m\u001b[0m\u001b[0m\n\u001b[0;32m    169\u001b[0m     \u001b[0mtrading_log_all\u001b[0m \u001b[1;33m=\u001b[0m \u001b[0mlog_patch\u001b[0m\u001b[1;33m(\u001b[0m\u001b[0mtrading_log_all\u001b[0m\u001b[1;33m)\u001b[0m\u001b[1;33m\u001b[0m\u001b[1;33m\u001b[0m\u001b[0m\n",
      "\u001b[1;32mc:\\Users\\shuai.song\\data\\Causis\\CTA_Trend\\Simulation.py\u001b[0m in \u001b[0;36mlog_patch\u001b[1;34m(trading_log)\u001b[0m\n\u001b[0;32m    143\u001b[0m \u001b[1;33m\u001b[0m\u001b[0m\n\u001b[0;32m    144\u001b[0m     \u001b[1;31m## Drop Date collapse\u001b[0m\u001b[1;33m\u001b[0m\u001b[1;33m\u001b[0m\u001b[1;33m\u001b[0m\u001b[0m\n\u001b[1;32m--> 145\u001b[1;33m     \u001b[1;32mif\u001b[0m \u001b[0md2\u001b[0m \u001b[1;32min\u001b[0m \u001b[0mtrading_log\u001b[0m\u001b[1;33m.\u001b[0m\u001b[0mloc\u001b[0m\u001b[1;33m[\u001b[0m\u001b[0mtrading_log\u001b[0m\u001b[1;33m[\u001b[0m\u001b[1;34m'open_bar'\u001b[0m\u001b[1;33m]\u001b[0m\u001b[1;33m<\u001b[0m\u001b[0mtrading_log\u001b[0m\u001b[1;33m[\u001b[0m\u001b[1;34m'close_bar'\u001b[0m\u001b[1;33m]\u001b[0m\u001b[1;33m.\u001b[0m\u001b[0mshift\u001b[0m\u001b[1;33m(\u001b[0m\u001b[1;36m1\u001b[0m\u001b[1;33m)\u001b[0m\u001b[1;33m]\u001b[0m\u001b[1;33m.\u001b[0m\u001b[0mshape\u001b[0m\u001b[1;33m[\u001b[0m\u001b[1;36m0\u001b[0m\u001b[1;33m]\u001b[0m\u001b[1;33m:\u001b[0m\u001b[1;33m\u001b[0m\u001b[1;33m\u001b[0m\u001b[0m\n\u001b[0m\u001b[0;32m    146\u001b[0m         \u001b[1;32mfor\u001b[0m \u001b[0md2\u001b[0m \u001b[1;32min\u001b[0m \u001b[0mtrading_log\u001b[0m\u001b[1;33m.\u001b[0m\u001b[0mloc\u001b[0m\u001b[1;33m[\u001b[0m\u001b[0mtrading_log\u001b[0m\u001b[1;33m[\u001b[0m\u001b[1;34m'open_bar'\u001b[0m\u001b[1;33m]\u001b[0m\u001b[1;33m<\u001b[0m\u001b[0mtrading_log\u001b[0m\u001b[1;33m[\u001b[0m\u001b[1;34m'close_bar'\u001b[0m\u001b[1;33m]\u001b[0m\u001b[1;33m.\u001b[0m\u001b[0mshift\u001b[0m\u001b[1;33m(\u001b[0m\u001b[1;36m1\u001b[0m\u001b[1;33m)\u001b[0m\u001b[1;33m]\u001b[0m\u001b[1;33m.\u001b[0m\u001b[0mindex\u001b[0m\u001b[1;33m:\u001b[0m\u001b[1;33m\u001b[0m\u001b[1;33m\u001b[0m\u001b[0m\n\u001b[0;32m    147\u001b[0m             \u001b[0mtrading_log\u001b[0m \u001b[1;33m=\u001b[0m \u001b[0mtrading_log\u001b[0m\u001b[1;33m.\u001b[0m\u001b[0mdrop\u001b[0m\u001b[1;33m(\u001b[0m\u001b[0md2\u001b[0m\u001b[1;33m)\u001b[0m\u001b[1;33m\u001b[0m\u001b[1;33m\u001b[0m\u001b[0m\n",
      "\u001b[1;31mUnboundLocalError\u001b[0m: local variable 'd2' referenced before assignment"
     ]
    }
   ],
   "source": [
    "sim.wrapper_simulation('p', True, 0, True)"
   ]
  }
 ],
 "metadata": {
  "kernelspec": {
   "display_name": "Python 3.8.5 ('base')",
   "language": "python",
   "name": "python3"
  },
  "language_info": {
   "codemirror_mode": {
    "name": "ipython",
    "version": 3
   },
   "file_extension": ".py",
   "mimetype": "text/x-python",
   "name": "python",
   "nbconvert_exporter": "python",
   "pygments_lexer": "ipython3",
   "version": "3.8.5"
  },
  "orig_nbformat": 4,
  "vscode": {
   "interpreter": {
    "hash": "ad2bdc8ecc057115af97d19610ffacc2b4e99fae6737bb82f5d7fb13d2f2c186"
   }
  }
 },
 "nbformat": 4,
 "nbformat_minor": 2
}
