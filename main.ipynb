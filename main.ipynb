{
 "cells": [
  {
   "cell_type": "code",
   "execution_count": 68,
   "metadata": {},
   "outputs": [
    {
     "data": {
      "text/plain": [
       "<module 'Dataloader' from 'c:\\\\Users\\\\shuai.song\\\\data\\\\Causis\\\\CTA_Trend\\\\Dataloader.py'>"
      ]
     },
     "execution_count": 68,
     "metadata": {},
     "output_type": "execute_result"
    }
   ],
   "source": [
    "from __init__ import *\n",
    "import Setting as _C\n",
    "reload(_C)\n",
    "import utils as _U\n",
    "reload(_U)\n",
    "import Simulation as sim\n",
    "reload(sim)\n",
    "import Dataloader as _D\n",
    "reload(_D)"
   ]
  },
  {
   "cell_type": "code",
   "execution_count": 112,
   "metadata": {},
   "outputs": [],
   "source": [
    "## Multprocessing has to be used in \"main\" \n",
    "if __name__ == \"__main__\":\n",
    "    dirs = ['balance_sheet', 'features', 'trading_logs', 'v_analysis']\n",
    "    \n",
    "    for dir in dirs:\n",
    "        if _C.VERSION not in os.listdir(f'output/{dir}'):\n",
    "            os.mkdir(f'output/{dir}/{_C.VERSION}')\n",
    "    \n",
    "    pool = Pool(8) # using \n",
    "    for i in range(len(_D.commodities.keys())):\n",
    "        pool.apply_async(func=sim.wrapper_simulation, args=(list(_D.commodities.keys())[i], False, True)) # args: scom_, logger_, f_save\n",
    "    \n",
    "    pool.close()\n",
    "    pool.join()"
   ]
  },
  {
   "cell_type": "code",
   "execution_count": 69,
   "metadata": {},
   "outputs": [
    {
     "name": "stdout",
     "output_type": "stream",
     "text": [
      "======= rb:1/15 =======\n",
      "Using Local 5min  Data | Local VTD: 2010-01-04--2022-08-29, BackTest VTD: 2010-01-04--2022-08-19\n",
      "Using Local D     Data | Local VTD: 2010-01-04--2022-08-19, BackTest VTD: 2010-01-04--2022-08-19\n",
      "[Feature and Trigger]     | 2022-09-02 13:31:11 Done | Using  30.253 seconds\n",
      "[BUY Trading trace]       | 2022-09-02 13:32:23 Done | Using  72.766 seconds\n",
      "[SELL Trading trace]      | 2022-09-02 13:33:35 Done | Using  71.440 seconds\n",
      "[Trading Simulation]      | 2022-09-02 13:34:39 Done | Using  64.161 seconds\n"
     ]
    }
   ],
   "source": [
    "dirs = ['balance_sheet', 'features', 'trading_logs', 'v_analysis']\n",
    "\n",
    "for dir in dirs:\n",
    "    if _C.VERSION not in os.listdir(f'output/{dir}'):\n",
    "        os.mkdir(f'output/{dir}/{_C.VERSION}')\n",
    "\n",
    "sim.wrapper_simulation('rb', logger_=True, f_save=True)"
   ]
  }
 ],
 "metadata": {
  "kernelspec": {
   "display_name": "Python 3.8.5 ('base')",
   "language": "python",
   "name": "python3"
  },
  "language_info": {
   "codemirror_mode": {
    "name": "ipython",
    "version": 3
   },
   "file_extension": ".py",
   "mimetype": "text/x-python",
   "name": "python",
   "nbconvert_exporter": "python",
   "pygments_lexer": "ipython3",
   "version": "3.8.5"
  },
  "orig_nbformat": 4,
  "vscode": {
   "interpreter": {
    "hash": "ad2bdc8ecc057115af97d19610ffacc2b4e99fae6737bb82f5d7fb13d2f2c186"
   }
  }
 },
 "nbformat": 4,
 "nbformat_minor": 2
}
