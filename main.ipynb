{
 "cells": [
  {
   "cell_type": "code",
   "execution_count": 182,
   "metadata": {},
   "outputs": [],
   "source": [
    "from multiprocessing import Pool\n",
    "from functools import partial\n",
    "from __init__ import *"
   ]
  },
  {
   "cell_type": "code",
   "execution_count": 183,
   "metadata": {},
   "outputs": [
    {
     "data": {
      "text/plain": [
       "<module 'Dataloader' from 'c:\\\\Users\\\\shuai.song\\\\data\\\\Causis\\\\CTA_Trend\\\\Dataloader.py'>"
      ]
     },
     "execution_count": 183,
     "metadata": {},
     "output_type": "execute_result"
    }
   ],
   "source": [
    "import Setting as _C\n",
    "reload(_C)\n",
    "import utils as _U\n",
    "reload(_U)\n",
    "import Simulation as sim\n",
    "reload(sim)\n",
    "import Dataloader as _D\n",
    "reload(_D)"
   ]
  },
  {
   "cell_type": "code",
   "execution_count": 3,
   "metadata": {},
   "outputs": [],
   "source": [
    "## Multprocessing Usage Restrictions\n",
    "if __name__ == \"__main__\":\n",
    "    dirs = ['balance_sheet', 'features', 'trading_logs', 'v_analysis']\n",
    "\n",
    "    for dir in dirs:\n",
    "        if _C.VERSION not in os.listdir(f'output/{dir}'):\n",
    "            os.mkdir(f'output/{dir}/{_C.VERSION}')\n",
    "\n",
    "    pool = Pool(8)\n",
    "    for i in range(len(_D.commodities.keys())):\n",
    "        pool.apply_async(func=sim.wrapper_simulation, args=(list(_D.commodities.keys())[i], True, False)) # args: scom_, logger_, f_save\n",
    "    \n",
    "    pool.close()\n",
    "    pool.join()"
   ]
  },
  {
   "cell_type": "code",
   "execution_count": 186,
   "metadata": {},
   "outputs": [
    {
     "data": {
      "text/plain": [
       "0       True\n",
       "1       True\n",
       "2       True\n",
       "3       True\n",
       "4       True\n",
       "        ... \n",
       "3065    True\n",
       "3066    True\n",
       "3067    True\n",
       "3068    True\n",
       "3069    True\n",
       "Name: CLOSE, Length: 3070, dtype: bool"
      ]
     },
     "execution_count": 186,
     "metadata": {},
     "output_type": "execute_result"
    }
   ],
   "source": [
    "COM_D['CLOSE']>1"
   ]
  },
  {
   "cell_type": "code",
   "execution_count": 184,
   "metadata": {},
   "outputs": [
    {
     "name": "stdout",
     "output_type": "stream",
     "text": [
      "======= p:9/15 =======\n",
      "Using Local 5min  Data | Local VTD: 2010-01-04--2022-08-19, BackTest VTD: 2010-01-04--2022-08-19\n",
      "Using Local D     Data | Local VTD: 2010-01-04--2022-08-19, BackTest VTD: 2010-01-04--2022-08-19\n",
      "Using Local 1min  Data | Local VTD: 2010-01-04--2022-08-19, BackTest VTD: 2010-01-04--2022-08-19\n"
     ]
    },
    {
     "ename": "ValueError",
     "evalue": "The truth value of a Series is ambiguous. Use a.empty, a.bool(), a.item(), a.any() or a.all().",
     "output_type": "error",
     "traceback": [
      "\u001b[1;31m---------------------------------------------------------------------------\u001b[0m",
      "\u001b[1;31mValueError\u001b[0m                                Traceback (most recent call last)",
      "\u001b[1;32m<ipython-input-184-85392537005d>\u001b[0m in \u001b[0;36m<module>\u001b[1;34m\u001b[0m\n\u001b[1;32m----> 1\u001b[1;33m \u001b[0msim\u001b[0m\u001b[1;33m.\u001b[0m\u001b[0mwrapper_simulation\u001b[0m\u001b[1;33m(\u001b[0m\u001b[1;34m'p'\u001b[0m\u001b[1;33m,\u001b[0m \u001b[1;32mTrue\u001b[0m\u001b[1;33m,\u001b[0m \u001b[1;32mTrue\u001b[0m\u001b[1;33m)\u001b[0m\u001b[1;33m\u001b[0m\u001b[1;33m\u001b[0m\u001b[0m\n\u001b[0m",
      "\u001b[1;32mc:\\Users\\shuai.song\\data\\Causis\\CTA_Trend\\Simulation.py\u001b[0m in \u001b[0;36mwrapper_simulation\u001b[1;34m(scom_, logger_, f_save)\u001b[0m\n\u001b[0;32m    300\u001b[0m \u001b[1;31m## wrapper for multi-process running\u001b[0m\u001b[1;33m\u001b[0m\u001b[1;33m\u001b[0m\u001b[1;33m\u001b[0m\u001b[0m\n\u001b[0;32m    301\u001b[0m \u001b[1;32mdef\u001b[0m \u001b[0mwrapper_simulation\u001b[0m\u001b[1;33m(\u001b[0m\u001b[0mscom_\u001b[0m\u001b[1;33m,\u001b[0m \u001b[0mlogger_\u001b[0m\u001b[1;33m,\u001b[0m \u001b[0mf_save\u001b[0m\u001b[1;33m=\u001b[0m\u001b[1;32mTrue\u001b[0m\u001b[1;33m)\u001b[0m\u001b[1;33m:\u001b[0m\u001b[1;33m\u001b[0m\u001b[1;33m\u001b[0m\u001b[0m\n\u001b[1;32m--> 302\u001b[1;33m     \u001b[0mbalance\u001b[0m\u001b[1;33m,\u001b[0m \u001b[0msym_logs\u001b[0m \u001b[1;33m=\u001b[0m \u001b[0mSimulation_all_in_one\u001b[0m\u001b[1;33m(\u001b[0m\u001b[0mscom_\u001b[0m\u001b[1;33m,\u001b[0m \u001b[0mlogger_\u001b[0m\u001b[1;33m,\u001b[0m \u001b[0mf_save\u001b[0m\u001b[1;33m)\u001b[0m\u001b[1;33m\u001b[0m\u001b[1;33m\u001b[0m\u001b[0m\n\u001b[0m\u001b[0;32m    303\u001b[0m     \u001b[1;31m## save files\u001b[0m\u001b[1;33m\u001b[0m\u001b[1;33m\u001b[0m\u001b[1;33m\u001b[0m\u001b[0m\n\u001b[0;32m    304\u001b[0m     \u001b[0mbalance\u001b[0m\u001b[1;33m.\u001b[0m\u001b[0mto_csv\u001b[0m\u001b[1;33m(\u001b[0m\u001b[1;34mf'./output/balance_sheet/{_C.VERSION}/{scom_}_balance.csv'\u001b[0m\u001b[1;33m)\u001b[0m\u001b[1;33m\u001b[0m\u001b[1;33m\u001b[0m\u001b[0m\n",
      "\u001b[1;32mc:\\Users\\shuai.song\\data\\Causis\\CTA_Trend\\Simulation.py\u001b[0m in \u001b[0;36mSimulation_all_in_one\u001b[1;34m(scom, logger, f_save)\u001b[0m\n\u001b[0;32m    270\u001b[0m \u001b[1;33m\u001b[0m\u001b[0m\n\u001b[0;32m    271\u001b[0m     \u001b[1;32mwith\u001b[0m \u001b[0m_U\u001b[0m\u001b[1;33m.\u001b[0m\u001b[0mtimer\u001b[0m\u001b[1;33m(\u001b[0m\u001b[1;34m'Feature and Trigger'\u001b[0m\u001b[1;33m,\u001b[0m \u001b[1;36m25\u001b[0m\u001b[1;33m,\u001b[0m \u001b[0mlogger\u001b[0m\u001b[1;33m)\u001b[0m\u001b[1;33m:\u001b[0m\u001b[1;33m\u001b[0m\u001b[1;33m\u001b[0m\u001b[0m\n\u001b[1;32m--> 272\u001b[1;33m         \u001b[0mCOM_ID\u001b[0m\u001b[1;33m,\u001b[0m \u001b[0mCOM_D\u001b[0m \u001b[1;33m=\u001b[0m \u001b[0m_S\u001b[0m\u001b[1;33m.\u001b[0m\u001b[0mFeature_and_Trigger\u001b[0m\u001b[1;33m(\u001b[0m\u001b[0mCOM_ID\u001b[0m\u001b[1;33m,\u001b[0m \u001b[0mCOM_D\u001b[0m\u001b[1;33m,\u001b[0m \u001b[0mfilter\u001b[0m\u001b[1;33m=\u001b[0m\u001b[0m_C\u001b[0m\u001b[1;33m.\u001b[0m\u001b[0mFILTER\u001b[0m\u001b[1;33m,\u001b[0m \u001b[0mf_save\u001b[0m\u001b[1;33m=\u001b[0m\u001b[0mf_save\u001b[0m\u001b[1;33m)\u001b[0m\u001b[1;33m\u001b[0m\u001b[1;33m\u001b[0m\u001b[0m\n\u001b[0m\u001b[0;32m    273\u001b[0m \u001b[1;33m\u001b[0m\u001b[0m\n\u001b[0;32m    274\u001b[0m     \u001b[0mTICK\u001b[0m \u001b[1;33m=\u001b[0m \u001b[0m_D\u001b[0m\u001b[1;33m.\u001b[0m\u001b[0mcommodities\u001b[0m\u001b[1;33m[\u001b[0m\u001b[0mscom\u001b[0m\u001b[1;33m]\u001b[0m\u001b[1;33m[\u001b[0m\u001b[1;34m'mintick'\u001b[0m\u001b[1;33m]\u001b[0m \u001b[1;33m*\u001b[0m \u001b[0m_C\u001b[0m\u001b[1;33m.\u001b[0m\u001b[0mSLIPPAGE\u001b[0m\u001b[1;33m\u001b[0m\u001b[1;33m\u001b[0m\u001b[0m\n",
      "\u001b[1;32mc:\\Users\\shuai.song\\data\\Causis\\CTA_Trend\\Strategy.py\u001b[0m in \u001b[0;36mFeature_and_Trigger\u001b[1;34m(COM_ID, COM_D, filter, f_save)\u001b[0m\n\u001b[0;32m     66\u001b[0m                 \u001b[0mCOM_ID\u001b[0m\u001b[1;33m[\u001b[0m\u001b[1;34m'trigger'\u001b[0m\u001b[1;33m]\u001b[0m\u001b[1;33m.\u001b[0m\u001b[0mloc\u001b[0m\u001b[1;33m[\u001b[0m\u001b[0mSSM_EMA\u001b[0m\u001b[1;33m]\u001b[0m \u001b[1;33m=\u001b[0m \u001b[1;36m0.0\u001b[0m\u001b[1;33m\u001b[0m\u001b[1;33m\u001b[0m\u001b[0m\n\u001b[0;32m     67\u001b[0m             \u001b[1;32melif\u001b[0m \u001b[0mf\u001b[0m \u001b[1;33m==\u001b[0m \u001b[1;34m'FLUCT_filter'\u001b[0m\u001b[1;33m:\u001b[0m\u001b[1;33m\u001b[0m\u001b[1;33m\u001b[0m\u001b[0m\n\u001b[1;32m---> 68\u001b[1;33m                 \u001b[0mSM\u001b[0m \u001b[1;33m=\u001b[0m \u001b[0mFLUCT_filter\u001b[0m\u001b[1;33m(\u001b[0m\u001b[0mCOM_ID\u001b[0m\u001b[1;33m)\u001b[0m\u001b[1;33m\u001b[0m\u001b[1;33m\u001b[0m\u001b[0m\n\u001b[0m\u001b[0;32m     69\u001b[0m                 \u001b[0mCOM_ID\u001b[0m\u001b[1;33m[\u001b[0m\u001b[1;34m'trigger'\u001b[0m\u001b[1;33m]\u001b[0m\u001b[1;33m.\u001b[0m\u001b[0mloc\u001b[0m\u001b[1;33m[\u001b[0m\u001b[1;33m~\u001b[0m\u001b[0mSM\u001b[0m\u001b[1;33m]\u001b[0m \u001b[1;33m=\u001b[0m \u001b[1;36m0.0\u001b[0m\u001b[1;33m\u001b[0m\u001b[1;33m\u001b[0m\u001b[0m\n\u001b[0;32m     70\u001b[0m             \u001b[1;32melse\u001b[0m\u001b[1;33m:\u001b[0m\u001b[1;33m\u001b[0m\u001b[1;33m\u001b[0m\u001b[0m\n",
      "\u001b[1;32mc:\\Users\\shuai.song\\data\\Causis\\CTA_Trend\\Strategy.py\u001b[0m in \u001b[0;36mFLUCT_filter\u001b[1;34m(_stmp)\u001b[0m\n\u001b[0;32m     47\u001b[0m     \u001b[0mCOM_1\u001b[0m\u001b[1;33m[\u001b[0m\u001b[1;34m'FLUCT_quantile_L'\u001b[0m\u001b[1;33m]\u001b[0m \u001b[1;33m=\u001b[0m \u001b[0mCOM_1\u001b[0m\u001b[1;33m[\u001b[0m\u001b[1;34m'FLUCT'\u001b[0m\u001b[1;33m]\u001b[0m\u001b[1;33m.\u001b[0m\u001b[0mrolling\u001b[0m\u001b[1;33m(\u001b[0m\u001b[1;36m300\u001b[0m\u001b[1;33m,\u001b[0m \u001b[0mmin_periods\u001b[0m\u001b[1;33m=\u001b[0m\u001b[1;36m1\u001b[0m\u001b[1;33m)\u001b[0m\u001b[1;33m.\u001b[0m\u001b[0mquantile\u001b[0m\u001b[1;33m(\u001b[0m\u001b[1;36m0.05\u001b[0m\u001b[1;33m)\u001b[0m\u001b[1;33m\u001b[0m\u001b[1;33m\u001b[0m\u001b[0m\n\u001b[0;32m     48\u001b[0m     \u001b[0mCOM_1\u001b[0m\u001b[1;33m[\u001b[0m\u001b[1;34m'FLUCT_quantile_H'\u001b[0m\u001b[1;33m]\u001b[0m \u001b[1;33m=\u001b[0m \u001b[0mCOM_1\u001b[0m\u001b[1;33m[\u001b[0m\u001b[1;34m'FLUCT'\u001b[0m\u001b[1;33m]\u001b[0m\u001b[1;33m.\u001b[0m\u001b[0mrolling\u001b[0m\u001b[1;33m(\u001b[0m\u001b[1;36m300\u001b[0m\u001b[1;33m,\u001b[0m \u001b[0mmin_periods\u001b[0m\u001b[1;33m=\u001b[0m\u001b[1;36m1\u001b[0m\u001b[1;33m)\u001b[0m\u001b[1;33m.\u001b[0m\u001b[0mquantile\u001b[0m\u001b[1;33m(\u001b[0m\u001b[1;36m0.45\u001b[0m\u001b[1;33m)\u001b[0m\u001b[1;33m\u001b[0m\u001b[1;33m\u001b[0m\u001b[0m\n\u001b[1;32m---> 49\u001b[1;33m     \u001b[0mt_slice_con\u001b[0m \u001b[1;33m=\u001b[0m \u001b[0mlist\u001b[0m\u001b[1;33m(\u001b[0m\u001b[1;33m(\u001b[0m\u001b[0mCOM_1\u001b[0m\u001b[1;33m[\u001b[0m\u001b[1;34m'FLUCT'\u001b[0m\u001b[1;33m]\u001b[0m \u001b[1;33m>\u001b[0m \u001b[0mCOM_1\u001b[0m\u001b[1;33m[\u001b[0m\u001b[1;34m'FLUCT_quantile_L'\u001b[0m\u001b[1;33m]\u001b[0m\u001b[1;33m)\u001b[0m \u001b[1;32mand\u001b[0m \u001b[1;33m(\u001b[0m\u001b[0mCOM_1\u001b[0m\u001b[1;33m[\u001b[0m\u001b[1;34m'FLUCT'\u001b[0m\u001b[1;33m]\u001b[0m \u001b[1;33m<\u001b[0m \u001b[0mCOM_1\u001b[0m\u001b[1;33m[\u001b[0m\u001b[1;34m'FLUCT_quantile_H'\u001b[0m\u001b[1;33m]\u001b[0m\u001b[1;33m)\u001b[0m\u001b[1;33m)\u001b[0m\u001b[1;33m\u001b[0m\u001b[1;33m\u001b[0m\u001b[0m\n\u001b[0m\u001b[0;32m     50\u001b[0m     \u001b[0msignal_mask\u001b[0m \u001b[1;33m=\u001b[0m \u001b[1;33m[\u001b[0m\u001b[0mt_slice_con\u001b[0m\u001b[1;33m[\u001b[0m\u001b[0mi\u001b[0m\u001b[1;33m*\u001b[0m\u001b[1;36m5\u001b[0m\u001b[1;33m-\u001b[0m\u001b[1;36m1\u001b[0m\u001b[1;33m]\u001b[0m \u001b[1;32mfor\u001b[0m \u001b[0mi\u001b[0m \u001b[1;32min\u001b[0m \u001b[0mrange\u001b[0m\u001b[1;33m(\u001b[0m\u001b[0mlen\u001b[0m\u001b[1;33m(\u001b[0m\u001b[0mt_slice_con\u001b[0m\u001b[1;33m)\u001b[0m\u001b[1;33m//\u001b[0m\u001b[1;36m5\u001b[0m\u001b[1;33m)\u001b[0m\u001b[1;33m]\u001b[0m\u001b[1;33m\u001b[0m\u001b[1;33m\u001b[0m\u001b[0m\n\u001b[0;32m     51\u001b[0m \u001b[1;33m\u001b[0m\u001b[0m\n",
      "\u001b[1;32mc:\\ProgramData\\Anaconda3\\lib\\site-packages\\pandas\\core\\generic.py\u001b[0m in \u001b[0;36m__nonzero__\u001b[1;34m(self)\u001b[0m\n\u001b[0;32m   1327\u001b[0m \u001b[1;33m\u001b[0m\u001b[0m\n\u001b[0;32m   1328\u001b[0m     \u001b[1;32mdef\u001b[0m \u001b[0m__nonzero__\u001b[0m\u001b[1;33m(\u001b[0m\u001b[0mself\u001b[0m\u001b[1;33m)\u001b[0m\u001b[1;33m:\u001b[0m\u001b[1;33m\u001b[0m\u001b[1;33m\u001b[0m\u001b[0m\n\u001b[1;32m-> 1329\u001b[1;33m         raise ValueError(\n\u001b[0m\u001b[0;32m   1330\u001b[0m             \u001b[1;34mf\"The truth value of a {type(self).__name__} is ambiguous. \"\u001b[0m\u001b[1;33m\u001b[0m\u001b[1;33m\u001b[0m\u001b[0m\n\u001b[0;32m   1331\u001b[0m             \u001b[1;34m\"Use a.empty, a.bool(), a.item(), a.any() or a.all().\"\u001b[0m\u001b[1;33m\u001b[0m\u001b[1;33m\u001b[0m\u001b[0m\n",
      "\u001b[1;31mValueError\u001b[0m: The truth value of a Series is ambiguous. Use a.empty, a.bool(), a.item(), a.any() or a.all()."
     ]
    }
   ],
   "source": [
    "sim.wrapper_simulation('p', True, True)"
   ]
  },
  {
   "cell_type": "code",
   "execution_count": 149,
   "metadata": {},
   "outputs": [],
   "source": [
    "F_d = pd.read_pickle('dataset/F_data_1min.pkl')"
   ]
  },
  {
   "cell_type": "code",
   "execution_count": 150,
   "metadata": {},
   "outputs": [
    {
     "data": {
      "text/html": [
       "<div>\n",
       "<style scoped>\n",
       "    .dataframe tbody tr th:only-of-type {\n",
       "        vertical-align: middle;\n",
       "    }\n",
       "\n",
       "    .dataframe tbody tr th {\n",
       "        vertical-align: top;\n",
       "    }\n",
       "\n",
       "    .dataframe thead th {\n",
       "        text-align: right;\n",
       "    }\n",
       "</style>\n",
       "<table border=\"1\" class=\"dataframe\">\n",
       "  <thead>\n",
       "    <tr style=\"text-align: right;\">\n",
       "      <th></th>\n",
       "      <th>SYMBOL</th>\n",
       "      <th>CLOCK</th>\n",
       "      <th>OPEN</th>\n",
       "      <th>HIGH</th>\n",
       "      <th>LOW</th>\n",
       "      <th>CLOSE</th>\n",
       "      <th>VOLUME</th>\n",
       "      <th>INTEREST</th>\n",
       "      <th>SETTLE</th>\n",
       "      <th>ADJ</th>\n",
       "      <th>DATE</th>\n",
       "    </tr>\n",
       "  </thead>\n",
       "  <tbody>\n",
       "    <tr>\n",
       "      <th>0</th>\n",
       "      <td>R.CN.SHF.rb.0004</td>\n",
       "      <td>2010-01-04 09:01:00</td>\n",
       "      <td>4523.0</td>\n",
       "      <td>4540.0</td>\n",
       "      <td>4523.0</td>\n",
       "      <td>4535.0</td>\n",
       "      <td>22172.0</td>\n",
       "      <td>914212.0</td>\n",
       "      <td>0.0</td>\n",
       "      <td>0.869811</td>\n",
       "      <td>2010-01-04</td>\n",
       "    </tr>\n",
       "    <tr>\n",
       "      <th>1</th>\n",
       "      <td>R.CN.SHF.rb.0004</td>\n",
       "      <td>2010-01-04 09:02:00</td>\n",
       "      <td>4535.0</td>\n",
       "      <td>4535.0</td>\n",
       "      <td>4524.0</td>\n",
       "      <td>4529.0</td>\n",
       "      <td>16936.0</td>\n",
       "      <td>914076.0</td>\n",
       "      <td>0.0</td>\n",
       "      <td>0.869811</td>\n",
       "      <td>2010-01-04</td>\n",
       "    </tr>\n",
       "    <tr>\n",
       "      <th>2</th>\n",
       "      <td>R.CN.SHF.rb.0004</td>\n",
       "      <td>2010-01-04 09:03:00</td>\n",
       "      <td>4528.0</td>\n",
       "      <td>4540.0</td>\n",
       "      <td>4528.0</td>\n",
       "      <td>4537.0</td>\n",
       "      <td>14964.0</td>\n",
       "      <td>914916.0</td>\n",
       "      <td>0.0</td>\n",
       "      <td>0.869811</td>\n",
       "      <td>2010-01-04</td>\n",
       "    </tr>\n",
       "    <tr>\n",
       "      <th>3</th>\n",
       "      <td>R.CN.SHF.rb.0004</td>\n",
       "      <td>2010-01-04 09:04:00</td>\n",
       "      <td>4537.0</td>\n",
       "      <td>4538.0</td>\n",
       "      <td>4529.0</td>\n",
       "      <td>4530.0</td>\n",
       "      <td>11020.0</td>\n",
       "      <td>918040.0</td>\n",
       "      <td>0.0</td>\n",
       "      <td>0.869811</td>\n",
       "      <td>2010-01-04</td>\n",
       "    </tr>\n",
       "    <tr>\n",
       "      <th>4</th>\n",
       "      <td>R.CN.SHF.rb.0004</td>\n",
       "      <td>2010-01-04 09:05:00</td>\n",
       "      <td>4530.0</td>\n",
       "      <td>4537.0</td>\n",
       "      <td>4529.0</td>\n",
       "      <td>4535.0</td>\n",
       "      <td>7766.0</td>\n",
       "      <td>919102.0</td>\n",
       "      <td>0.0</td>\n",
       "      <td>0.869811</td>\n",
       "      <td>2010-01-04</td>\n",
       "    </tr>\n",
       "    <tr>\n",
       "      <th>...</th>\n",
       "      <td>...</td>\n",
       "      <td>...</td>\n",
       "      <td>...</td>\n",
       "      <td>...</td>\n",
       "      <td>...</td>\n",
       "      <td>...</td>\n",
       "      <td>...</td>\n",
       "      <td>...</td>\n",
       "      <td>...</td>\n",
       "      <td>...</td>\n",
       "      <td>...</td>\n",
       "    </tr>\n",
       "    <tr>\n",
       "      <th>900505</th>\n",
       "      <td>R.CN.SHF.rb.0004</td>\n",
       "      <td>2022-08-19 22:56:00</td>\n",
       "      <td>3985.0</td>\n",
       "      <td>3988.0</td>\n",
       "      <td>3984.0</td>\n",
       "      <td>3986.0</td>\n",
       "      <td>4487.0</td>\n",
       "      <td>1492673.0</td>\n",
       "      <td>0.0</td>\n",
       "      <td>1.245742</td>\n",
       "      <td>2022-08-19</td>\n",
       "    </tr>\n",
       "    <tr>\n",
       "      <th>900506</th>\n",
       "      <td>R.CN.SHF.rb.0004</td>\n",
       "      <td>2022-08-19 22:57:00</td>\n",
       "      <td>3987.0</td>\n",
       "      <td>3987.0</td>\n",
       "      <td>3982.0</td>\n",
       "      <td>3983.0</td>\n",
       "      <td>3248.0</td>\n",
       "      <td>1492305.0</td>\n",
       "      <td>0.0</td>\n",
       "      <td>1.245742</td>\n",
       "      <td>2022-08-19</td>\n",
       "    </tr>\n",
       "    <tr>\n",
       "      <th>900507</th>\n",
       "      <td>R.CN.SHF.rb.0004</td>\n",
       "      <td>2022-08-19 22:58:00</td>\n",
       "      <td>3983.0</td>\n",
       "      <td>3987.0</td>\n",
       "      <td>3982.0</td>\n",
       "      <td>3984.0</td>\n",
       "      <td>3657.0</td>\n",
       "      <td>1491470.0</td>\n",
       "      <td>0.0</td>\n",
       "      <td>1.245742</td>\n",
       "      <td>2022-08-19</td>\n",
       "    </tr>\n",
       "    <tr>\n",
       "      <th>900508</th>\n",
       "      <td>R.CN.SHF.rb.0004</td>\n",
       "      <td>2022-08-19 22:59:00</td>\n",
       "      <td>3985.0</td>\n",
       "      <td>3988.0</td>\n",
       "      <td>3984.0</td>\n",
       "      <td>3988.0</td>\n",
       "      <td>5609.0</td>\n",
       "      <td>1489989.0</td>\n",
       "      <td>0.0</td>\n",
       "      <td>1.245742</td>\n",
       "      <td>2022-08-19</td>\n",
       "    </tr>\n",
       "    <tr>\n",
       "      <th>900509</th>\n",
       "      <td>R.CN.SHF.rb.0004</td>\n",
       "      <td>2022-08-19 23:00:00</td>\n",
       "      <td>3988.0</td>\n",
       "      <td>3992.0</td>\n",
       "      <td>3987.0</td>\n",
       "      <td>3990.0</td>\n",
       "      <td>10383.0</td>\n",
       "      <td>1486097.0</td>\n",
       "      <td>0.0</td>\n",
       "      <td>1.245742</td>\n",
       "      <td>2022-08-19</td>\n",
       "    </tr>\n",
       "  </tbody>\n",
       "</table>\n",
       "<p>900510 rows × 11 columns</p>\n",
       "</div>"
      ],
      "text/plain": [
       "                  SYMBOL                CLOCK    OPEN    HIGH     LOW   CLOSE  \\\n",
       "0       R.CN.SHF.rb.0004  2010-01-04 09:01:00  4523.0  4540.0  4523.0  4535.0   \n",
       "1       R.CN.SHF.rb.0004  2010-01-04 09:02:00  4535.0  4535.0  4524.0  4529.0   \n",
       "2       R.CN.SHF.rb.0004  2010-01-04 09:03:00  4528.0  4540.0  4528.0  4537.0   \n",
       "3       R.CN.SHF.rb.0004  2010-01-04 09:04:00  4537.0  4538.0  4529.0  4530.0   \n",
       "4       R.CN.SHF.rb.0004  2010-01-04 09:05:00  4530.0  4537.0  4529.0  4535.0   \n",
       "...                  ...                  ...     ...     ...     ...     ...   \n",
       "900505  R.CN.SHF.rb.0004  2022-08-19 22:56:00  3985.0  3988.0  3984.0  3986.0   \n",
       "900506  R.CN.SHF.rb.0004  2022-08-19 22:57:00  3987.0  3987.0  3982.0  3983.0   \n",
       "900507  R.CN.SHF.rb.0004  2022-08-19 22:58:00  3983.0  3987.0  3982.0  3984.0   \n",
       "900508  R.CN.SHF.rb.0004  2022-08-19 22:59:00  3985.0  3988.0  3984.0  3988.0   \n",
       "900509  R.CN.SHF.rb.0004  2022-08-19 23:00:00  3988.0  3992.0  3987.0  3990.0   \n",
       "\n",
       "         VOLUME   INTEREST  SETTLE       ADJ        DATE  \n",
       "0       22172.0   914212.0     0.0  0.869811  2010-01-04  \n",
       "1       16936.0   914076.0     0.0  0.869811  2010-01-04  \n",
       "2       14964.0   914916.0     0.0  0.869811  2010-01-04  \n",
       "3       11020.0   918040.0     0.0  0.869811  2010-01-04  \n",
       "4        7766.0   919102.0     0.0  0.869811  2010-01-04  \n",
       "...         ...        ...     ...       ...         ...  \n",
       "900505   4487.0  1492673.0     0.0  1.245742  2022-08-19  \n",
       "900506   3248.0  1492305.0     0.0  1.245742  2022-08-19  \n",
       "900507   3657.0  1491470.0     0.0  1.245742  2022-08-19  \n",
       "900508   5609.0  1489989.0     0.0  1.245742  2022-08-19  \n",
       "900509  10383.0  1486097.0     0.0  1.245742  2022-08-19  \n",
       "\n",
       "[900510 rows x 11 columns]"
      ]
     },
     "execution_count": 150,
     "metadata": {},
     "output_type": "execute_result"
    }
   ],
   "source": [
    "F_d['rb']"
   ]
  },
  {
   "cell_type": "code",
   "execution_count": 116,
   "metadata": {},
   "outputs": [],
   "source": [
    "def Double_STD_trigger(stmp):\n",
    "    tmp = 0.5*(2-np.abs(stmp['STD_S']+stmp['STD_S'].shift(1)))/stmp['STD_S']\n",
    "    stmp['STD_S_Fork'] = tmp\n",
    "    stmp['trigger'] = np.zeros(stmp.shape[0])\n",
    "    \n",
    "    buy_trigger_condition = (stmp['STD_S_Fork']== 1) & (stmp['STD_L']== 1)\n",
    "    buy_observation_condition = (stmp['STD_S_Fork']==-1) & (stmp['STD_L']== 1)\n",
    "    stmp['trigger'].loc[buy_trigger_condition] = 2\n",
    "    stmp['trigger'].loc[buy_observation_condition] = 1\n",
    "\n",
    "    sell_trigger_condition = (stmp['STD_S_Fork']==-1) & (stmp['STD_L']==-1)\n",
    "    sell_observation_condition = (stmp['STD_S_Fork']== 1) & (stmp['STD_L']==-1)\n",
    "    stmp['trigger'].loc[sell_trigger_condition] = -2\n",
    "    stmp['trigger'].loc[sell_observation_condition] = -1\n",
    "   \n",
    "    return stmp"
   ]
  },
  {
   "cell_type": "code",
   "execution_count": 25,
   "metadata": {},
   "outputs": [],
   "source": [
    "cc = Double_STD_trigger(cc)"
   ]
  },
  {
   "cell_type": "code",
   "execution_count": 124,
   "metadata": {},
   "outputs": [],
   "source": [
    "## EMA Filter\n",
    "def EMA_filter(_stmp_id, _stmp_d):\n",
    "    # param: Day bars data\n",
    "    _stmp_d['EMA_S'] = _stmp_d['CLOSE'].ewm(span=_C.DAY_EMA_S, adjust=False).mean()\n",
    "    _stmp_d['EMA_L'] = _stmp_d['CLOSE'].ewm(span=_C.DAY_EMA_L, adjust=False).mean()\n",
    "    Buy_signal_mask  = (_stmp_d['EMA_S']<_stmp_d['EMA_L']) & (_stmp_id['trigger'] >  0.5)\n",
    "    Sell_signal_mask = (_stmp_d['EMA_S']>_stmp_d['EMA_L']) & (_stmp_id['trigger'] < -0.5)\n",
    "\n",
    "    return Buy_signal_mask, Sell_signal_mask\n",
    "\n",
    "def FLUCT_filter(_stmp):\n",
    "    _stmp['FLUCT'] = _stmp['CLOSE'].ewm(span=15, min_periods=1).mean().rolling(30, min_periods=1).std()\n",
    "    signal_mask = _stmp['FLUCT'] < _stmp['FLUCT'].rolling(300, min_periods=1).quantile(0.8)\n",
    "    return signal_mask"
   ]
  },
  {
   "cell_type": "code",
   "execution_count": 125,
   "metadata": {},
   "outputs": [],
   "source": [
    "## All in one Function\n",
    "def Feature_and_Trigger(COM_ID, COM_D, filter, f_save):\n",
    "\n",
    "    # COM_ID = _F.technical_analysis(COM_ID, PADJ=_C.PADJ, logger=False, save=f_save)\n",
    "    COM_ID =  Double_STD_trigger(COM_ID)\n",
    "\n",
    "    if len(filter):\n",
    "        for f in filter:\n",
    "            if f == 'EMA_filter':\n",
    "                BSM_EMA, SSM_EMA = EMA_filter(COM_ID, COM_D)\n",
    "                COM_ID['trigger'].loc[BSM_EMA] = 0.0\n",
    "                COM_ID['trigger'].loc[SSM_EMA] = 0.0\n",
    "            elif f == 'FLUCT_filter':\n",
    "                SM = FLUCT_filter(COM_ID)\n",
    "                COM_ID['trigger'].loc[~SM] = 0.0\n",
    "            else:\n",
    "                print('No Such Filter')\n",
    "\n",
    "    return COM_ID, COM_D"
   ]
  },
  {
   "cell_type": "code",
   "execution_count": 126,
   "metadata": {},
   "outputs": [],
   "source": [
    "COM_ID,  COM_D= Feature_and_Trigger(COM_ID, COM_D, _C.FILTER, False)"
   ]
  },
  {
   "cell_type": "code",
   "execution_count": 122,
   "metadata": {},
   "outputs": [
    {
     "ename": "KeyError",
     "evalue": "'trigger'",
     "output_type": "error",
     "traceback": [
      "\u001b[1;31m---------------------------------------------------------------------------\u001b[0m",
      "\u001b[1;31mKeyError\u001b[0m                                  Traceback (most recent call last)",
      "\u001b[1;32mc:\\ProgramData\\Anaconda3\\lib\\site-packages\\pandas\\core\\indexes\\base.py\u001b[0m in \u001b[0;36mget_loc\u001b[1;34m(self, key, method, tolerance)\u001b[0m\n\u001b[0;32m   2894\u001b[0m             \u001b[1;32mtry\u001b[0m\u001b[1;33m:\u001b[0m\u001b[1;33m\u001b[0m\u001b[1;33m\u001b[0m\u001b[0m\n\u001b[1;32m-> 2895\u001b[1;33m                 \u001b[1;32mreturn\u001b[0m \u001b[0mself\u001b[0m\u001b[1;33m.\u001b[0m\u001b[0m_engine\u001b[0m\u001b[1;33m.\u001b[0m\u001b[0mget_loc\u001b[0m\u001b[1;33m(\u001b[0m\u001b[0mcasted_key\u001b[0m\u001b[1;33m)\u001b[0m\u001b[1;33m\u001b[0m\u001b[1;33m\u001b[0m\u001b[0m\n\u001b[0m\u001b[0;32m   2896\u001b[0m             \u001b[1;32mexcept\u001b[0m \u001b[0mKeyError\u001b[0m \u001b[1;32mas\u001b[0m \u001b[0merr\u001b[0m\u001b[1;33m:\u001b[0m\u001b[1;33m\u001b[0m\u001b[1;33m\u001b[0m\u001b[0m\n",
      "\u001b[1;32mpandas\\_libs\\index.pyx\u001b[0m in \u001b[0;36mpandas._libs.index.IndexEngine.get_loc\u001b[1;34m()\u001b[0m\n",
      "\u001b[1;32mpandas\\_libs\\index.pyx\u001b[0m in \u001b[0;36mpandas._libs.index.IndexEngine.get_loc\u001b[1;34m()\u001b[0m\n",
      "\u001b[1;32mpandas\\_libs\\hashtable_class_helper.pxi\u001b[0m in \u001b[0;36mpandas._libs.hashtable.PyObjectHashTable.get_item\u001b[1;34m()\u001b[0m\n",
      "\u001b[1;32mpandas\\_libs\\hashtable_class_helper.pxi\u001b[0m in \u001b[0;36mpandas._libs.hashtable.PyObjectHashTable.get_item\u001b[1;34m()\u001b[0m\n",
      "\u001b[1;31mKeyError\u001b[0m: 'trigger'",
      "\nThe above exception was the direct cause of the following exception:\n",
      "\u001b[1;31mKeyError\u001b[0m                                  Traceback (most recent call last)",
      "\u001b[1;32m<ipython-input-122-a3ac6f652aa4>\u001b[0m in \u001b[0;36m<module>\u001b[1;34m\u001b[0m\n\u001b[0;32m      2\u001b[0m     \u001b[1;32mfor\u001b[0m \u001b[0mf\u001b[0m \u001b[1;32min\u001b[0m \u001b[0m_C\u001b[0m\u001b[1;33m.\u001b[0m\u001b[0mFILTER\u001b[0m\u001b[1;33m:\u001b[0m\u001b[1;33m\u001b[0m\u001b[1;33m\u001b[0m\u001b[0m\n\u001b[0;32m      3\u001b[0m         \u001b[1;32mif\u001b[0m \u001b[0mf\u001b[0m \u001b[1;33m==\u001b[0m \u001b[1;34m'EMA_filter'\u001b[0m\u001b[1;33m:\u001b[0m\u001b[1;33m\u001b[0m\u001b[1;33m\u001b[0m\u001b[0m\n\u001b[1;32m----> 4\u001b[1;33m             \u001b[0mBSM_EMA\u001b[0m\u001b[1;33m,\u001b[0m \u001b[0mSSM_EMA\u001b[0m \u001b[1;33m=\u001b[0m \u001b[0mEMA_filter\u001b[0m\u001b[1;33m(\u001b[0m\u001b[0mCOM_D\u001b[0m\u001b[1;33m)\u001b[0m\u001b[1;33m\u001b[0m\u001b[1;33m\u001b[0m\u001b[0m\n\u001b[0m\u001b[0;32m      5\u001b[0m             \u001b[0mCOM_ID\u001b[0m\u001b[1;33m[\u001b[0m\u001b[1;34m'trigger'\u001b[0m\u001b[1;33m]\u001b[0m\u001b[1;33m.\u001b[0m\u001b[0mloc\u001b[0m\u001b[1;33m[\u001b[0m\u001b[0mBSM_EMA\u001b[0m\u001b[1;33m]\u001b[0m \u001b[1;33m=\u001b[0m \u001b[1;36m0.0\u001b[0m\u001b[1;33m\u001b[0m\u001b[1;33m\u001b[0m\u001b[0m\n\u001b[0;32m      6\u001b[0m             \u001b[0mCOM_ID\u001b[0m\u001b[1;33m[\u001b[0m\u001b[1;34m'trigger'\u001b[0m\u001b[1;33m]\u001b[0m\u001b[1;33m.\u001b[0m\u001b[0mloc\u001b[0m\u001b[1;33m[\u001b[0m\u001b[0mSSM_EMA\u001b[0m\u001b[1;33m]\u001b[0m \u001b[1;33m=\u001b[0m \u001b[1;36m0.0\u001b[0m\u001b[1;33m\u001b[0m\u001b[1;33m\u001b[0m\u001b[0m\n",
      "\u001b[1;32m<ipython-input-111-18684c024d27>\u001b[0m in \u001b[0;36mEMA_filter\u001b[1;34m(_stmp)\u001b[0m\n\u001b[0;32m      4\u001b[0m     \u001b[0m_stmp\u001b[0m\u001b[1;33m[\u001b[0m\u001b[1;34m'EMA_S'\u001b[0m\u001b[1;33m]\u001b[0m \u001b[1;33m=\u001b[0m \u001b[0m_stmp\u001b[0m\u001b[1;33m[\u001b[0m\u001b[1;34m'CLOSE'\u001b[0m\u001b[1;33m]\u001b[0m\u001b[1;33m.\u001b[0m\u001b[0mewm\u001b[0m\u001b[1;33m(\u001b[0m\u001b[0mspan\u001b[0m\u001b[1;33m=\u001b[0m\u001b[0m_C\u001b[0m\u001b[1;33m.\u001b[0m\u001b[0mDAY_EMA_S\u001b[0m\u001b[1;33m,\u001b[0m \u001b[0madjust\u001b[0m\u001b[1;33m=\u001b[0m\u001b[1;32mFalse\u001b[0m\u001b[1;33m)\u001b[0m\u001b[1;33m.\u001b[0m\u001b[0mmean\u001b[0m\u001b[1;33m(\u001b[0m\u001b[1;33m)\u001b[0m\u001b[1;33m\u001b[0m\u001b[1;33m\u001b[0m\u001b[0m\n\u001b[0;32m      5\u001b[0m     \u001b[0m_stmp\u001b[0m\u001b[1;33m[\u001b[0m\u001b[1;34m'EMA_L'\u001b[0m\u001b[1;33m]\u001b[0m \u001b[1;33m=\u001b[0m \u001b[0m_stmp\u001b[0m\u001b[1;33m[\u001b[0m\u001b[1;34m'CLOSE'\u001b[0m\u001b[1;33m]\u001b[0m\u001b[1;33m.\u001b[0m\u001b[0mewm\u001b[0m\u001b[1;33m(\u001b[0m\u001b[0mspan\u001b[0m\u001b[1;33m=\u001b[0m\u001b[0m_C\u001b[0m\u001b[1;33m.\u001b[0m\u001b[0mDAY_EMA_L\u001b[0m\u001b[1;33m,\u001b[0m \u001b[0madjust\u001b[0m\u001b[1;33m=\u001b[0m\u001b[1;32mFalse\u001b[0m\u001b[1;33m)\u001b[0m\u001b[1;33m.\u001b[0m\u001b[0mmean\u001b[0m\u001b[1;33m(\u001b[0m\u001b[1;33m)\u001b[0m\u001b[1;33m\u001b[0m\u001b[1;33m\u001b[0m\u001b[0m\n\u001b[1;32m----> 6\u001b[1;33m     \u001b[0mBuy_signal_mask\u001b[0m  \u001b[1;33m=\u001b[0m \u001b[1;33m(\u001b[0m\u001b[0m_stmp\u001b[0m\u001b[1;33m[\u001b[0m\u001b[1;34m'EMA_S'\u001b[0m\u001b[1;33m]\u001b[0m\u001b[1;33m<\u001b[0m\u001b[0m_stmp\u001b[0m\u001b[1;33m[\u001b[0m\u001b[1;34m'EMA_L'\u001b[0m\u001b[1;33m]\u001b[0m\u001b[1;33m)\u001b[0m \u001b[1;33m&\u001b[0m \u001b[1;33m(\u001b[0m\u001b[0m_stmp\u001b[0m\u001b[1;33m[\u001b[0m\u001b[1;34m'trigger'\u001b[0m\u001b[1;33m]\u001b[0m \u001b[1;33m>\u001b[0m  \u001b[1;36m0.5\u001b[0m\u001b[1;33m)\u001b[0m\u001b[1;33m\u001b[0m\u001b[1;33m\u001b[0m\u001b[0m\n\u001b[0m\u001b[0;32m      7\u001b[0m     \u001b[0mSell_signal_mask\u001b[0m \u001b[1;33m=\u001b[0m \u001b[1;33m(\u001b[0m\u001b[0m_stmp\u001b[0m\u001b[1;33m[\u001b[0m\u001b[1;34m'EMA_S'\u001b[0m\u001b[1;33m]\u001b[0m\u001b[1;33m>\u001b[0m\u001b[0m_stmp\u001b[0m\u001b[1;33m[\u001b[0m\u001b[1;34m'EMA_L'\u001b[0m\u001b[1;33m]\u001b[0m\u001b[1;33m)\u001b[0m \u001b[1;33m&\u001b[0m \u001b[1;33m(\u001b[0m\u001b[0m_stmp\u001b[0m\u001b[1;33m[\u001b[0m\u001b[1;34m'trigger'\u001b[0m\u001b[1;33m]\u001b[0m \u001b[1;33m<\u001b[0m \u001b[1;33m-\u001b[0m\u001b[1;36m0.5\u001b[0m\u001b[1;33m)\u001b[0m\u001b[1;33m\u001b[0m\u001b[1;33m\u001b[0m\u001b[0m\n\u001b[0;32m      8\u001b[0m \u001b[1;33m\u001b[0m\u001b[0m\n",
      "\u001b[1;32mc:\\ProgramData\\Anaconda3\\lib\\site-packages\\pandas\\core\\frame.py\u001b[0m in \u001b[0;36m__getitem__\u001b[1;34m(self, key)\u001b[0m\n\u001b[0;32m   2900\u001b[0m             \u001b[1;32mif\u001b[0m \u001b[0mself\u001b[0m\u001b[1;33m.\u001b[0m\u001b[0mcolumns\u001b[0m\u001b[1;33m.\u001b[0m\u001b[0mnlevels\u001b[0m \u001b[1;33m>\u001b[0m \u001b[1;36m1\u001b[0m\u001b[1;33m:\u001b[0m\u001b[1;33m\u001b[0m\u001b[1;33m\u001b[0m\u001b[0m\n\u001b[0;32m   2901\u001b[0m                 \u001b[1;32mreturn\u001b[0m \u001b[0mself\u001b[0m\u001b[1;33m.\u001b[0m\u001b[0m_getitem_multilevel\u001b[0m\u001b[1;33m(\u001b[0m\u001b[0mkey\u001b[0m\u001b[1;33m)\u001b[0m\u001b[1;33m\u001b[0m\u001b[1;33m\u001b[0m\u001b[0m\n\u001b[1;32m-> 2902\u001b[1;33m             \u001b[0mindexer\u001b[0m \u001b[1;33m=\u001b[0m \u001b[0mself\u001b[0m\u001b[1;33m.\u001b[0m\u001b[0mcolumns\u001b[0m\u001b[1;33m.\u001b[0m\u001b[0mget_loc\u001b[0m\u001b[1;33m(\u001b[0m\u001b[0mkey\u001b[0m\u001b[1;33m)\u001b[0m\u001b[1;33m\u001b[0m\u001b[1;33m\u001b[0m\u001b[0m\n\u001b[0m\u001b[0;32m   2903\u001b[0m             \u001b[1;32mif\u001b[0m \u001b[0mis_integer\u001b[0m\u001b[1;33m(\u001b[0m\u001b[0mindexer\u001b[0m\u001b[1;33m)\u001b[0m\u001b[1;33m:\u001b[0m\u001b[1;33m\u001b[0m\u001b[1;33m\u001b[0m\u001b[0m\n\u001b[0;32m   2904\u001b[0m                 \u001b[0mindexer\u001b[0m \u001b[1;33m=\u001b[0m \u001b[1;33m[\u001b[0m\u001b[0mindexer\u001b[0m\u001b[1;33m]\u001b[0m\u001b[1;33m\u001b[0m\u001b[1;33m\u001b[0m\u001b[0m\n",
      "\u001b[1;32mc:\\ProgramData\\Anaconda3\\lib\\site-packages\\pandas\\core\\indexes\\base.py\u001b[0m in \u001b[0;36mget_loc\u001b[1;34m(self, key, method, tolerance)\u001b[0m\n\u001b[0;32m   2895\u001b[0m                 \u001b[1;32mreturn\u001b[0m \u001b[0mself\u001b[0m\u001b[1;33m.\u001b[0m\u001b[0m_engine\u001b[0m\u001b[1;33m.\u001b[0m\u001b[0mget_loc\u001b[0m\u001b[1;33m(\u001b[0m\u001b[0mcasted_key\u001b[0m\u001b[1;33m)\u001b[0m\u001b[1;33m\u001b[0m\u001b[1;33m\u001b[0m\u001b[0m\n\u001b[0;32m   2896\u001b[0m             \u001b[1;32mexcept\u001b[0m \u001b[0mKeyError\u001b[0m \u001b[1;32mas\u001b[0m \u001b[0merr\u001b[0m\u001b[1;33m:\u001b[0m\u001b[1;33m\u001b[0m\u001b[1;33m\u001b[0m\u001b[0m\n\u001b[1;32m-> 2897\u001b[1;33m                 \u001b[1;32mraise\u001b[0m \u001b[0mKeyError\u001b[0m\u001b[1;33m(\u001b[0m\u001b[0mkey\u001b[0m\u001b[1;33m)\u001b[0m \u001b[1;32mfrom\u001b[0m \u001b[0merr\u001b[0m\u001b[1;33m\u001b[0m\u001b[1;33m\u001b[0m\u001b[0m\n\u001b[0m\u001b[0;32m   2898\u001b[0m \u001b[1;33m\u001b[0m\u001b[0m\n\u001b[0;32m   2899\u001b[0m         \u001b[1;32mif\u001b[0m \u001b[0mtolerance\u001b[0m \u001b[1;32mis\u001b[0m \u001b[1;32mnot\u001b[0m \u001b[1;32mNone\u001b[0m\u001b[1;33m:\u001b[0m\u001b[1;33m\u001b[0m\u001b[1;33m\u001b[0m\u001b[0m\n",
      "\u001b[1;31mKeyError\u001b[0m: 'trigger'"
     ]
    }
   ],
   "source": [
    "if len(_C.FILTER):\n",
    "    for f in _C.FILTER:\n",
    "        if f == 'EMA_filter':\n",
    "            BSM_EMA, SSM_EMA = EMA_filter(COM_D)\n",
    "            COM_ID['trigger'].loc[BSM_EMA] = 0.0\n",
    "            COM_ID['trigger'].loc[SSM_EMA] = 0.0\n",
    "        elif f == 'FLUCT_filter':\n",
    "            SM = FLUCT_filter(COM_ID)\n",
    "            COM_ID['trigger'].loc[~SM] = 0.0\n",
    "        else:\n",
    "            print('No Such Filter')"
   ]
  },
  {
   "cell_type": "code",
   "execution_count": 69,
   "metadata": {},
   "outputs": [],
   "source": [
    "def Trading_trace(COM_ID, tick, COM_ID_VTD):\n",
    "    ## trigger execution\n",
    "    BUY_log = sim.BUY_Trade(COM_ID, tick, logger=True) \n",
    "    SELL_log = sim.SELL_Trade(COM_ID, tick, logger=True)\n",
    "\n",
    "    buy = BUY_log.set_index('open_bar', drop=False)\n",
    "    sell = SELL_log.set_index('open_bar', drop=False)\n",
    "\n",
    "    trading_log_buy = buy.sort_index()\n",
    "    trading_log_sell = sell.sort_index()\n",
    "\n",
    "    trading_log_all = buy.append(sell)\n",
    "    trading_log_all = trading_log_all.sort_index()\n",
    "\n",
    "    ## patch some potential error\n",
    "    trading_log_buy = sim.log_patch(trading_log_buy)\n",
    "    trading_log_sell = sim.log_patch(trading_log_sell)\n",
    "    trading_log_all = sim.log_patch(trading_log_all)\n",
    "\n",
    "    ## create trade date columns\n",
    "    def Date_Belong(clock):\n",
    "        if clock[11:] < '21:00:00':\n",
    "            return clock[:10]\n",
    "        else:\n",
    "            return COM_ID_VTD[min(COM_ID_VTD.index(clock[:10])+1, len(COM_ID_VTD)-1)]\n",
    "\n",
    "    trading_log_buy['open_date'] = trading_log_buy['open_bar'].apply(lambda x: Date_Belong(x))\n",
    "    trading_log_buy['close_date'] = trading_log_buy['close_bar'].apply(lambda x: Date_Belong(x))\n",
    "\n",
    "    trading_log_sell['open_date'] = trading_log_sell['open_bar'].apply(lambda x: Date_Belong(x))\n",
    "    trading_log_sell['close_date'] = trading_log_sell['close_bar'].apply(lambda x: Date_Belong(x))\n",
    "\n",
    "    trading_log_all['open_date'] = trading_log_all['open_bar'].apply(lambda x: Date_Belong(x))\n",
    "    trading_log_all['close_date'] = trading_log_all['close_bar'].apply(lambda x: Date_Belong(x))\n",
    "\n",
    "    return [trading_log_buy, trading_log_sell, trading_log_all]"
   ]
  },
  {
   "cell_type": "code",
   "execution_count": 46,
   "metadata": {},
   "outputs": [],
   "source": [
    "COM_ID = pd.read_csv('output/features/v3/p_features.csv', index_col=0)"
   ]
  },
  {
   "cell_type": "code",
   "execution_count": 58,
   "metadata": {},
   "outputs": [],
   "source": [
    "COM_D = pd.read_pickle('dataset/F_data_D.pkl')"
   ]
  },
  {
   "cell_type": "code",
   "execution_count": 61,
   "metadata": {},
   "outputs": [],
   "source": [
    "COM_ID = Double_STD_trigger(COM_ID)"
   ]
  },
  {
   "cell_type": "code",
   "execution_count": 77,
   "metadata": {},
   "outputs": [
    {
     "data": {
      "text/plain": [
       "CLOCK\n",
       "2010-01-04 09:06:00   -2.0\n",
       "2010-01-04 09:24:00   -2.0\n",
       "2010-01-04 09:45:00   -2.0\n",
       "2010-01-04 14:08:00   -2.0\n",
       "2010-01-04 14:21:00   -2.0\n",
       "                      ... \n",
       "2022-08-18 22:19:00   -2.0\n",
       "2022-08-19 10:00:00   -2.0\n",
       "2022-08-19 11:06:00   -2.0\n",
       "2022-08-19 13:56:00   -2.0\n",
       "2022-08-19 14:14:00   -2.0\n",
       "Name: trigger, Length: 23339, dtype: float64"
      ]
     },
     "execution_count": 77,
     "metadata": {},
     "output_type": "execute_result"
    }
   ],
   "source": [
    "COM_ID['trigger'].loc[COM_ID['trigger']==-2]"
   ]
  },
  {
   "cell_type": "code",
   "execution_count": null,
   "metadata": {},
   "outputs": [],
   "source": []
  },
  {
   "cell_type": "code",
   "execution_count": 70,
   "metadata": {},
   "outputs": [
    {
     "name": "stdout",
     "output_type": "stream",
     "text": [
      "[1/23219]    | 2022-08-24 16:45:27 Done \n",
      "[11/23219]   | 2022-08-24 16:45:32 Done \n",
      "[21/23219]   | 2022-08-24 16:45:38 Done \n",
      "[31/23219]   | 2022-08-24 16:45:43 Done \n"
     ]
    },
    {
     "ename": "KeyboardInterrupt",
     "evalue": "",
     "output_type": "error",
     "traceback": [
      "\u001b[1;31m---------------------------------------------------------------------------\u001b[0m",
      "\u001b[1;31mKeyboardInterrupt\u001b[0m                         Traceback (most recent call last)",
      "\u001b[1;32m<ipython-input-70-041d9bba38bb>\u001b[0m in \u001b[0;36m<module>\u001b[1;34m\u001b[0m\n\u001b[1;32m----> 1\u001b[1;33m \u001b[0mlogs\u001b[0m \u001b[1;33m=\u001b[0m \u001b[0mTrading_trace\u001b[0m\u001b[1;33m(\u001b[0m\u001b[0mCOM_ID\u001b[0m\u001b[1;33m,\u001b[0m \u001b[1;36m0\u001b[0m\u001b[1;33m,\u001b[0m \u001b[0mCOM_ID\u001b[0m\u001b[1;33m[\u001b[0m\u001b[1;34m'DATE'\u001b[0m\u001b[1;33m]\u001b[0m\u001b[1;33m.\u001b[0m\u001b[0mdrop_duplicates\u001b[0m\u001b[1;33m(\u001b[0m\u001b[1;33m)\u001b[0m\u001b[1;33m.\u001b[0m\u001b[0mto_list\u001b[0m\u001b[1;33m(\u001b[0m\u001b[1;33m)\u001b[0m\u001b[1;33m)\u001b[0m\u001b[1;33m\u001b[0m\u001b[1;33m\u001b[0m\u001b[0m\n\u001b[0m",
      "\u001b[1;32m<ipython-input-69-9355c5b4c0cc>\u001b[0m in \u001b[0;36mTrading_trace\u001b[1;34m(COM_ID, tick, COM_ID_VTD)\u001b[0m\n\u001b[0;32m      1\u001b[0m \u001b[1;32mdef\u001b[0m \u001b[0mTrading_trace\u001b[0m\u001b[1;33m(\u001b[0m\u001b[0mCOM_ID\u001b[0m\u001b[1;33m,\u001b[0m \u001b[0mtick\u001b[0m\u001b[1;33m,\u001b[0m \u001b[0mCOM_ID_VTD\u001b[0m\u001b[1;33m)\u001b[0m\u001b[1;33m:\u001b[0m\u001b[1;33m\u001b[0m\u001b[1;33m\u001b[0m\u001b[0m\n\u001b[0;32m      2\u001b[0m     \u001b[1;31m## trigger execution\u001b[0m\u001b[1;33m\u001b[0m\u001b[1;33m\u001b[0m\u001b[1;33m\u001b[0m\u001b[0m\n\u001b[1;32m----> 3\u001b[1;33m     \u001b[0mBUY_log\u001b[0m \u001b[1;33m=\u001b[0m \u001b[0msim\u001b[0m\u001b[1;33m.\u001b[0m\u001b[0mBUY_Trade\u001b[0m\u001b[1;33m(\u001b[0m\u001b[0mCOM_ID\u001b[0m\u001b[1;33m,\u001b[0m \u001b[0mtick\u001b[0m\u001b[1;33m,\u001b[0m \u001b[0mlogger\u001b[0m\u001b[1;33m=\u001b[0m\u001b[1;32mTrue\u001b[0m\u001b[1;33m)\u001b[0m\u001b[1;33m\u001b[0m\u001b[1;33m\u001b[0m\u001b[0m\n\u001b[0m\u001b[0;32m      4\u001b[0m     \u001b[0mSELL_log\u001b[0m \u001b[1;33m=\u001b[0m \u001b[0msim\u001b[0m\u001b[1;33m.\u001b[0m\u001b[0mSELL_Trade\u001b[0m\u001b[1;33m(\u001b[0m\u001b[0mCOM_ID\u001b[0m\u001b[1;33m,\u001b[0m \u001b[0mtick\u001b[0m\u001b[1;33m,\u001b[0m \u001b[0mlogger\u001b[0m\u001b[1;33m=\u001b[0m\u001b[1;32mTrue\u001b[0m\u001b[1;33m)\u001b[0m\u001b[1;33m\u001b[0m\u001b[1;33m\u001b[0m\u001b[0m\n\u001b[0;32m      5\u001b[0m \u001b[1;33m\u001b[0m\u001b[0m\n",
      "\u001b[1;32mc:\\Users\\shuai.song\\data\\Causis\\CTA_Trend\\Simulation.py\u001b[0m in \u001b[0;36mBUY_Trade\u001b[1;34m(Symbol, tick, logger)\u001b[0m\n\u001b[0;32m     40\u001b[0m \u001b[1;33m\u001b[0m\u001b[0m\n\u001b[0;32m     41\u001b[0m         \u001b[1;32mif\u001b[0m \u001b[0mSymbol\u001b[0m\u001b[1;33m[\u001b[0m\u001b[1;34m'CLOCK'\u001b[0m\u001b[1;33m]\u001b[0m\u001b[1;33m.\u001b[0m\u001b[0mloc\u001b[0m\u001b[1;33m[\u001b[0m\u001b[0mt\u001b[0m\u001b[1;33m:\u001b[0m\u001b[1;33m]\u001b[0m\u001b[1;33m.\u001b[0m\u001b[0mloc\u001b[0m\u001b[1;33m[\u001b[0m\u001b[0mSymbol\u001b[0m\u001b[1;33m[\u001b[0m\u001b[1;34m'STD_L'\u001b[0m\u001b[1;33m]\u001b[0m\u001b[1;33m==\u001b[0m\u001b[1;33m-\u001b[0m\u001b[1;36m1\u001b[0m\u001b[1;33m]\u001b[0m\u001b[1;33m.\u001b[0m\u001b[0mshape\u001b[0m\u001b[1;33m[\u001b[0m\u001b[1;36m0\u001b[0m\u001b[1;33m]\u001b[0m\u001b[1;33m:\u001b[0m \u001b[1;31m# fork change coming, interrupt the simulation\u001b[0m\u001b[1;33m\u001b[0m\u001b[1;33m\u001b[0m\u001b[0m\n\u001b[1;32m---> 42\u001b[1;33m             \u001b[0mclose_bar\u001b[0m \u001b[1;33m=\u001b[0m  \u001b[0mclock_rank\u001b[0m\u001b[1;33m[\u001b[0m\u001b[0mmin\u001b[0m\u001b[1;33m(\u001b[0m\u001b[0mclock_rank\u001b[0m\u001b[1;33m.\u001b[0m\u001b[0mindex\u001b[0m\u001b[1;33m(\u001b[0m\u001b[0mSymbol\u001b[0m\u001b[1;33m[\u001b[0m\u001b[1;34m'CLOCK'\u001b[0m\u001b[1;33m]\u001b[0m\u001b[1;33m.\u001b[0m\u001b[0mloc\u001b[0m\u001b[1;33m[\u001b[0m\u001b[0mt\u001b[0m\u001b[1;33m:\u001b[0m\u001b[1;33m]\u001b[0m\u001b[1;33m.\u001b[0m\u001b[0mloc\u001b[0m\u001b[1;33m[\u001b[0m\u001b[0mSymbol\u001b[0m\u001b[1;33m[\u001b[0m\u001b[1;34m'STD_L'\u001b[0m\u001b[1;33m]\u001b[0m\u001b[1;33m==\u001b[0m\u001b[1;33m-\u001b[0m\u001b[1;36m1\u001b[0m\u001b[1;33m]\u001b[0m\u001b[1;33m[\u001b[0m\u001b[1;36m0\u001b[0m\u001b[1;33m]\u001b[0m\u001b[1;33m)\u001b[0m\u001b[1;33m+\u001b[0m\u001b[1;36m1\u001b[0m\u001b[1;33m,\u001b[0m \u001b[0mlen\u001b[0m\u001b[1;33m(\u001b[0m\u001b[0mclock_rank\u001b[0m\u001b[1;33m)\u001b[0m\u001b[1;33m-\u001b[0m\u001b[1;36m1\u001b[0m\u001b[1;33m)\u001b[0m\u001b[1;33m]\u001b[0m\u001b[1;33m\u001b[0m\u001b[1;33m\u001b[0m\u001b[0m\n\u001b[0m\u001b[0;32m     43\u001b[0m         \u001b[1;32melse\u001b[0m\u001b[1;33m:\u001b[0m\u001b[1;33m\u001b[0m\u001b[1;33m\u001b[0m\u001b[0m\n\u001b[0;32m     44\u001b[0m             \u001b[0mclose_bar\u001b[0m \u001b[1;33m=\u001b[0m \u001b[0mclock_rank\u001b[0m\u001b[1;33m[\u001b[0m\u001b[1;33m-\u001b[0m\u001b[1;36m1\u001b[0m\u001b[1;33m]\u001b[0m\u001b[1;33m\u001b[0m\u001b[1;33m\u001b[0m\u001b[0m\n",
      "\u001b[1;32mc:\\ProgramData\\Anaconda3\\lib\\site-packages\\pandas\\core\\indexing.py\u001b[0m in \u001b[0;36m__getitem__\u001b[1;34m(self, key)\u001b[0m\n\u001b[0;32m    877\u001b[0m \u001b[1;33m\u001b[0m\u001b[0m\n\u001b[0;32m    878\u001b[0m             \u001b[0mmaybe_callable\u001b[0m \u001b[1;33m=\u001b[0m \u001b[0mcom\u001b[0m\u001b[1;33m.\u001b[0m\u001b[0mapply_if_callable\u001b[0m\u001b[1;33m(\u001b[0m\u001b[0mkey\u001b[0m\u001b[1;33m,\u001b[0m \u001b[0mself\u001b[0m\u001b[1;33m.\u001b[0m\u001b[0mobj\u001b[0m\u001b[1;33m)\u001b[0m\u001b[1;33m\u001b[0m\u001b[1;33m\u001b[0m\u001b[0m\n\u001b[1;32m--> 879\u001b[1;33m             \u001b[1;32mreturn\u001b[0m \u001b[0mself\u001b[0m\u001b[1;33m.\u001b[0m\u001b[0m_getitem_axis\u001b[0m\u001b[1;33m(\u001b[0m\u001b[0mmaybe_callable\u001b[0m\u001b[1;33m,\u001b[0m \u001b[0maxis\u001b[0m\u001b[1;33m=\u001b[0m\u001b[0maxis\u001b[0m\u001b[1;33m)\u001b[0m\u001b[1;33m\u001b[0m\u001b[1;33m\u001b[0m\u001b[0m\n\u001b[0m\u001b[0;32m    880\u001b[0m \u001b[1;33m\u001b[0m\u001b[0m\n\u001b[0;32m    881\u001b[0m     \u001b[1;32mdef\u001b[0m \u001b[0m_is_scalar_access\u001b[0m\u001b[1;33m(\u001b[0m\u001b[0mself\u001b[0m\u001b[1;33m,\u001b[0m \u001b[0mkey\u001b[0m\u001b[1;33m:\u001b[0m \u001b[0mTuple\u001b[0m\u001b[1;33m)\u001b[0m\u001b[1;33m:\u001b[0m\u001b[1;33m\u001b[0m\u001b[1;33m\u001b[0m\u001b[0m\n",
      "\u001b[1;32mc:\\ProgramData\\Anaconda3\\lib\\site-packages\\pandas\\core\\indexing.py\u001b[0m in \u001b[0;36m_getitem_axis\u001b[1;34m(self, key, axis)\u001b[0m\n\u001b[0;32m   1088\u001b[0m             \u001b[1;32mreturn\u001b[0m \u001b[0mself\u001b[0m\u001b[1;33m.\u001b[0m\u001b[0m_get_slice_axis\u001b[0m\u001b[1;33m(\u001b[0m\u001b[0mkey\u001b[0m\u001b[1;33m,\u001b[0m \u001b[0maxis\u001b[0m\u001b[1;33m=\u001b[0m\u001b[0maxis\u001b[0m\u001b[1;33m)\u001b[0m\u001b[1;33m\u001b[0m\u001b[1;33m\u001b[0m\u001b[0m\n\u001b[0;32m   1089\u001b[0m         \u001b[1;32melif\u001b[0m \u001b[0mcom\u001b[0m\u001b[1;33m.\u001b[0m\u001b[0mis_bool_indexer\u001b[0m\u001b[1;33m(\u001b[0m\u001b[0mkey\u001b[0m\u001b[1;33m)\u001b[0m\u001b[1;33m:\u001b[0m\u001b[1;33m\u001b[0m\u001b[1;33m\u001b[0m\u001b[0m\n\u001b[1;32m-> 1090\u001b[1;33m             \u001b[1;32mreturn\u001b[0m \u001b[0mself\u001b[0m\u001b[1;33m.\u001b[0m\u001b[0m_getbool_axis\u001b[0m\u001b[1;33m(\u001b[0m\u001b[0mkey\u001b[0m\u001b[1;33m,\u001b[0m \u001b[0maxis\u001b[0m\u001b[1;33m=\u001b[0m\u001b[0maxis\u001b[0m\u001b[1;33m)\u001b[0m\u001b[1;33m\u001b[0m\u001b[1;33m\u001b[0m\u001b[0m\n\u001b[0m\u001b[0;32m   1091\u001b[0m         \u001b[1;32melif\u001b[0m \u001b[0mis_list_like_indexer\u001b[0m\u001b[1;33m(\u001b[0m\u001b[0mkey\u001b[0m\u001b[1;33m)\u001b[0m\u001b[1;33m:\u001b[0m\u001b[1;33m\u001b[0m\u001b[1;33m\u001b[0m\u001b[0m\n\u001b[0;32m   1092\u001b[0m \u001b[1;33m\u001b[0m\u001b[0m\n",
      "\u001b[1;32mc:\\ProgramData\\Anaconda3\\lib\\site-packages\\pandas\\core\\indexing.py\u001b[0m in \u001b[0;36m_getbool_axis\u001b[1;34m(self, key, axis)\u001b[0m\n\u001b[0;32m    894\u001b[0m         \u001b[1;31m# caller is responsible for ensuring non-None axis\u001b[0m\u001b[1;33m\u001b[0m\u001b[1;33m\u001b[0m\u001b[1;33m\u001b[0m\u001b[0m\n\u001b[0;32m    895\u001b[0m         \u001b[0mlabels\u001b[0m \u001b[1;33m=\u001b[0m \u001b[0mself\u001b[0m\u001b[1;33m.\u001b[0m\u001b[0mobj\u001b[0m\u001b[1;33m.\u001b[0m\u001b[0m_get_axis\u001b[0m\u001b[1;33m(\u001b[0m\u001b[0maxis\u001b[0m\u001b[1;33m)\u001b[0m\u001b[1;33m\u001b[0m\u001b[1;33m\u001b[0m\u001b[0m\n\u001b[1;32m--> 896\u001b[1;33m         \u001b[0mkey\u001b[0m \u001b[1;33m=\u001b[0m \u001b[0mcheck_bool_indexer\u001b[0m\u001b[1;33m(\u001b[0m\u001b[0mlabels\u001b[0m\u001b[1;33m,\u001b[0m \u001b[0mkey\u001b[0m\u001b[1;33m)\u001b[0m\u001b[1;33m\u001b[0m\u001b[1;33m\u001b[0m\u001b[0m\n\u001b[0m\u001b[0;32m    897\u001b[0m         \u001b[0minds\u001b[0m \u001b[1;33m=\u001b[0m \u001b[0mkey\u001b[0m\u001b[1;33m.\u001b[0m\u001b[0mnonzero\u001b[0m\u001b[1;33m(\u001b[0m\u001b[1;33m)\u001b[0m\u001b[1;33m[\u001b[0m\u001b[1;36m0\u001b[0m\u001b[1;33m]\u001b[0m\u001b[1;33m\u001b[0m\u001b[1;33m\u001b[0m\u001b[0m\n\u001b[0;32m    898\u001b[0m         \u001b[1;32mreturn\u001b[0m \u001b[0mself\u001b[0m\u001b[1;33m.\u001b[0m\u001b[0mobj\u001b[0m\u001b[1;33m.\u001b[0m\u001b[0m_take_with_is_copy\u001b[0m\u001b[1;33m(\u001b[0m\u001b[0minds\u001b[0m\u001b[1;33m,\u001b[0m \u001b[0maxis\u001b[0m\u001b[1;33m=\u001b[0m\u001b[0maxis\u001b[0m\u001b[1;33m)\u001b[0m\u001b[1;33m\u001b[0m\u001b[1;33m\u001b[0m\u001b[0m\n",
      "\u001b[1;32mc:\\ProgramData\\Anaconda3\\lib\\site-packages\\pandas\\core\\indexing.py\u001b[0m in \u001b[0;36mcheck_bool_indexer\u001b[1;34m(index, key)\u001b[0m\n\u001b[0;32m   2179\u001b[0m     \u001b[0mresult\u001b[0m \u001b[1;33m=\u001b[0m \u001b[0mkey\u001b[0m\u001b[1;33m\u001b[0m\u001b[1;33m\u001b[0m\u001b[0m\n\u001b[0;32m   2180\u001b[0m     \u001b[1;32mif\u001b[0m \u001b[0misinstance\u001b[0m\u001b[1;33m(\u001b[0m\u001b[0mkey\u001b[0m\u001b[1;33m,\u001b[0m \u001b[0mABCSeries\u001b[0m\u001b[1;33m)\u001b[0m \u001b[1;32mand\u001b[0m \u001b[1;32mnot\u001b[0m \u001b[0mkey\u001b[0m\u001b[1;33m.\u001b[0m\u001b[0mindex\u001b[0m\u001b[1;33m.\u001b[0m\u001b[0mequals\u001b[0m\u001b[1;33m(\u001b[0m\u001b[0mindex\u001b[0m\u001b[1;33m)\u001b[0m\u001b[1;33m:\u001b[0m\u001b[1;33m\u001b[0m\u001b[1;33m\u001b[0m\u001b[0m\n\u001b[1;32m-> 2181\u001b[1;33m         \u001b[0mresult\u001b[0m \u001b[1;33m=\u001b[0m \u001b[0mresult\u001b[0m\u001b[1;33m.\u001b[0m\u001b[0mreindex\u001b[0m\u001b[1;33m(\u001b[0m\u001b[0mindex\u001b[0m\u001b[1;33m)\u001b[0m\u001b[1;33m\u001b[0m\u001b[1;33m\u001b[0m\u001b[0m\n\u001b[0m\u001b[0;32m   2182\u001b[0m         \u001b[0mmask\u001b[0m \u001b[1;33m=\u001b[0m \u001b[0misna\u001b[0m\u001b[1;33m(\u001b[0m\u001b[0mresult\u001b[0m\u001b[1;33m.\u001b[0m\u001b[0m_values\u001b[0m\u001b[1;33m)\u001b[0m\u001b[1;33m\u001b[0m\u001b[1;33m\u001b[0m\u001b[0m\n\u001b[0;32m   2183\u001b[0m         \u001b[1;32mif\u001b[0m \u001b[0mmask\u001b[0m\u001b[1;33m.\u001b[0m\u001b[0many\u001b[0m\u001b[1;33m(\u001b[0m\u001b[1;33m)\u001b[0m\u001b[1;33m:\u001b[0m\u001b[1;33m\u001b[0m\u001b[1;33m\u001b[0m\u001b[0m\n",
      "\u001b[1;32mc:\\ProgramData\\Anaconda3\\lib\\site-packages\\pandas\\core\\series.py\u001b[0m in \u001b[0;36mreindex\u001b[1;34m(self, index, **kwargs)\u001b[0m\n\u001b[0;32m   4397\u001b[0m     )\n\u001b[0;32m   4398\u001b[0m     \u001b[1;32mdef\u001b[0m \u001b[0mreindex\u001b[0m\u001b[1;33m(\u001b[0m\u001b[0mself\u001b[0m\u001b[1;33m,\u001b[0m \u001b[0mindex\u001b[0m\u001b[1;33m=\u001b[0m\u001b[1;32mNone\u001b[0m\u001b[1;33m,\u001b[0m \u001b[1;33m**\u001b[0m\u001b[0mkwargs\u001b[0m\u001b[1;33m)\u001b[0m\u001b[1;33m:\u001b[0m\u001b[1;33m\u001b[0m\u001b[1;33m\u001b[0m\u001b[0m\n\u001b[1;32m-> 4399\u001b[1;33m         \u001b[1;32mreturn\u001b[0m \u001b[0msuper\u001b[0m\u001b[1;33m(\u001b[0m\u001b[1;33m)\u001b[0m\u001b[1;33m.\u001b[0m\u001b[0mreindex\u001b[0m\u001b[1;33m(\u001b[0m\u001b[0mindex\u001b[0m\u001b[1;33m=\u001b[0m\u001b[0mindex\u001b[0m\u001b[1;33m,\u001b[0m \u001b[1;33m**\u001b[0m\u001b[0mkwargs\u001b[0m\u001b[1;33m)\u001b[0m\u001b[1;33m\u001b[0m\u001b[1;33m\u001b[0m\u001b[0m\n\u001b[0m\u001b[0;32m   4400\u001b[0m \u001b[1;33m\u001b[0m\u001b[0m\n\u001b[0;32m   4401\u001b[0m     def drop(\n",
      "\u001b[1;32mc:\\ProgramData\\Anaconda3\\lib\\site-packages\\pandas\\core\\generic.py\u001b[0m in \u001b[0;36mreindex\u001b[1;34m(self, *args, **kwargs)\u001b[0m\n\u001b[0;32m   4459\u001b[0m \u001b[1;33m\u001b[0m\u001b[0m\n\u001b[0;32m   4460\u001b[0m         \u001b[1;31m# perform the reindex on the axes\u001b[0m\u001b[1;33m\u001b[0m\u001b[1;33m\u001b[0m\u001b[1;33m\u001b[0m\u001b[0m\n\u001b[1;32m-> 4461\u001b[1;33m         return self._reindex_axes(\n\u001b[0m\u001b[0;32m   4462\u001b[0m             \u001b[0maxes\u001b[0m\u001b[1;33m,\u001b[0m \u001b[0mlevel\u001b[0m\u001b[1;33m,\u001b[0m \u001b[0mlimit\u001b[0m\u001b[1;33m,\u001b[0m \u001b[0mtolerance\u001b[0m\u001b[1;33m,\u001b[0m \u001b[0mmethod\u001b[0m\u001b[1;33m,\u001b[0m \u001b[0mfill_value\u001b[0m\u001b[1;33m,\u001b[0m \u001b[0mcopy\u001b[0m\u001b[1;33m\u001b[0m\u001b[1;33m\u001b[0m\u001b[0m\n\u001b[0;32m   4463\u001b[0m         ).__finalize__(self, method=\"reindex\")\n",
      "\u001b[1;32mc:\\ProgramData\\Anaconda3\\lib\\site-packages\\pandas\\core\\generic.py\u001b[0m in \u001b[0;36m_reindex_axes\u001b[1;34m(self, axes, level, limit, tolerance, method, fill_value, copy)\u001b[0m\n\u001b[0;32m   4474\u001b[0m \u001b[1;33m\u001b[0m\u001b[0m\n\u001b[0;32m   4475\u001b[0m             \u001b[0max\u001b[0m \u001b[1;33m=\u001b[0m \u001b[0mself\u001b[0m\u001b[1;33m.\u001b[0m\u001b[0m_get_axis\u001b[0m\u001b[1;33m(\u001b[0m\u001b[0ma\u001b[0m\u001b[1;33m)\u001b[0m\u001b[1;33m\u001b[0m\u001b[1;33m\u001b[0m\u001b[0m\n\u001b[1;32m-> 4476\u001b[1;33m             new_index, indexer = ax.reindex(\n\u001b[0m\u001b[0;32m   4477\u001b[0m                 \u001b[0mlabels\u001b[0m\u001b[1;33m,\u001b[0m \u001b[0mlevel\u001b[0m\u001b[1;33m=\u001b[0m\u001b[0mlevel\u001b[0m\u001b[1;33m,\u001b[0m \u001b[0mlimit\u001b[0m\u001b[1;33m=\u001b[0m\u001b[0mlimit\u001b[0m\u001b[1;33m,\u001b[0m \u001b[0mtolerance\u001b[0m\u001b[1;33m=\u001b[0m\u001b[0mtolerance\u001b[0m\u001b[1;33m,\u001b[0m \u001b[0mmethod\u001b[0m\u001b[1;33m=\u001b[0m\u001b[0mmethod\u001b[0m\u001b[1;33m\u001b[0m\u001b[1;33m\u001b[0m\u001b[0m\n\u001b[0;32m   4478\u001b[0m             )\n",
      "\u001b[1;32mc:\\ProgramData\\Anaconda3\\lib\\site-packages\\pandas\\core\\indexes\\base.py\u001b[0m in \u001b[0;36mreindex\u001b[1;34m(self, target, method, level, limit, tolerance)\u001b[0m\n\u001b[0;32m   3332\u001b[0m                 \u001b[1;31m# check is_overlapping for IntervalIndex compat\u001b[0m\u001b[1;33m\u001b[0m\u001b[1;33m\u001b[0m\u001b[1;33m\u001b[0m\u001b[0m\n\u001b[0;32m   3333\u001b[0m                 \u001b[1;32mif\u001b[0m \u001b[0mself\u001b[0m\u001b[1;33m.\u001b[0m\u001b[0mis_unique\u001b[0m \u001b[1;32mand\u001b[0m \u001b[1;32mnot\u001b[0m \u001b[0mgetattr\u001b[0m\u001b[1;33m(\u001b[0m\u001b[0mself\u001b[0m\u001b[1;33m,\u001b[0m \u001b[1;34m\"is_overlapping\"\u001b[0m\u001b[1;33m,\u001b[0m \u001b[1;32mFalse\u001b[0m\u001b[1;33m)\u001b[0m\u001b[1;33m:\u001b[0m\u001b[1;33m\u001b[0m\u001b[1;33m\u001b[0m\u001b[0m\n\u001b[1;32m-> 3334\u001b[1;33m                     indexer = self.get_indexer(\n\u001b[0m\u001b[0;32m   3335\u001b[0m                         \u001b[0mtarget\u001b[0m\u001b[1;33m,\u001b[0m \u001b[0mmethod\u001b[0m\u001b[1;33m=\u001b[0m\u001b[0mmethod\u001b[0m\u001b[1;33m,\u001b[0m \u001b[0mlimit\u001b[0m\u001b[1;33m=\u001b[0m\u001b[0mlimit\u001b[0m\u001b[1;33m,\u001b[0m \u001b[0mtolerance\u001b[0m\u001b[1;33m=\u001b[0m\u001b[0mtolerance\u001b[0m\u001b[1;33m\u001b[0m\u001b[1;33m\u001b[0m\u001b[0m\n\u001b[0;32m   3336\u001b[0m                     )\n",
      "\u001b[1;32mc:\\ProgramData\\Anaconda3\\lib\\site-packages\\pandas\\core\\indexes\\base.py\u001b[0m in \u001b[0;36mget_indexer\u001b[1;34m(self, target, method, limit, tolerance)\u001b[0m\n\u001b[0;32m   3004\u001b[0m                 )\n\u001b[0;32m   3005\u001b[0m \u001b[1;33m\u001b[0m\u001b[0m\n\u001b[1;32m-> 3006\u001b[1;33m             \u001b[0mindexer\u001b[0m \u001b[1;33m=\u001b[0m \u001b[0mself\u001b[0m\u001b[1;33m.\u001b[0m\u001b[0m_engine\u001b[0m\u001b[1;33m.\u001b[0m\u001b[0mget_indexer\u001b[0m\u001b[1;33m(\u001b[0m\u001b[0mtarget\u001b[0m\u001b[1;33m.\u001b[0m\u001b[0m_get_engine_target\u001b[0m\u001b[1;33m(\u001b[0m\u001b[1;33m)\u001b[0m\u001b[1;33m)\u001b[0m\u001b[1;33m\u001b[0m\u001b[1;33m\u001b[0m\u001b[0m\n\u001b[0m\u001b[0;32m   3007\u001b[0m \u001b[1;33m\u001b[0m\u001b[0m\n\u001b[0;32m   3008\u001b[0m         \u001b[1;32mreturn\u001b[0m \u001b[0mensure_platform_int\u001b[0m\u001b[1;33m(\u001b[0m\u001b[0mindexer\u001b[0m\u001b[1;33m)\u001b[0m\u001b[1;33m\u001b[0m\u001b[1;33m\u001b[0m\u001b[0m\n",
      "\u001b[1;32mpandas\\_libs\\index.pyx\u001b[0m in \u001b[0;36mpandas._libs.index.IndexEngine.get_indexer\u001b[1;34m()\u001b[0m\n",
      "\u001b[1;32mpandas\\_libs\\hashtable_class_helper.pxi\u001b[0m in \u001b[0;36mpandas._libs.hashtable.PyObjectHashTable.lookup\u001b[1;34m()\u001b[0m\n",
      "\u001b[1;32mc:\\ProgramData\\Anaconda3\\lib\\site-packages\\numpy\\core\\_asarray.py\u001b[0m in \u001b[0;36masarray\u001b[1;34m(a, dtype, order)\u001b[0m\n\u001b[0;32m     81\u001b[0m \u001b[1;33m\u001b[0m\u001b[0m\n\u001b[0;32m     82\u001b[0m     \"\"\"\n\u001b[1;32m---> 83\u001b[1;33m     \u001b[1;32mreturn\u001b[0m \u001b[0marray\u001b[0m\u001b[1;33m(\u001b[0m\u001b[0ma\u001b[0m\u001b[1;33m,\u001b[0m \u001b[0mdtype\u001b[0m\u001b[1;33m,\u001b[0m \u001b[0mcopy\u001b[0m\u001b[1;33m=\u001b[0m\u001b[1;32mFalse\u001b[0m\u001b[1;33m,\u001b[0m \u001b[0morder\u001b[0m\u001b[1;33m=\u001b[0m\u001b[0morder\u001b[0m\u001b[1;33m)\u001b[0m\u001b[1;33m\u001b[0m\u001b[1;33m\u001b[0m\u001b[0m\n\u001b[0m\u001b[0;32m     84\u001b[0m \u001b[1;33m\u001b[0m\u001b[0m\n\u001b[0;32m     85\u001b[0m \u001b[1;33m\u001b[0m\u001b[0m\n",
      "\u001b[1;31mKeyboardInterrupt\u001b[0m: "
     ]
    }
   ],
   "source": [
    "logs = Trading_trace(COM_ID, 0, COM_ID['DATE'].drop_duplicates().to_list())"
   ]
  }
 ],
 "metadata": {
  "kernelspec": {
   "display_name": "Python 3.8.5 ('base')",
   "language": "python",
   "name": "python3"
  },
  "language_info": {
   "codemirror_mode": {
    "name": "ipython",
    "version": 3
   },
   "file_extension": ".py",
   "mimetype": "text/x-python",
   "name": "python",
   "nbconvert_exporter": "python",
   "pygments_lexer": "ipython3",
   "version": "3.8.5"
  },
  "orig_nbformat": 4,
  "vscode": {
   "interpreter": {
    "hash": "ad2bdc8ecc057115af97d19610ffacc2b4e99fae6737bb82f5d7fb13d2f2c186"
   }
  }
 },
 "nbformat": 4,
 "nbformat_minor": 2
}
