{
 "cells": [
  {
   "cell_type": "code",
   "execution_count": 231,
   "metadata": {},
   "outputs": [],
   "source": [
    "from multiprocessing import Pool\n",
    "from functools import partial\n",
    "from __init__ import *"
   ]
  },
  {
   "cell_type": "code",
   "execution_count": 232,
   "metadata": {},
   "outputs": [
    {
     "data": {
      "text/plain": [
       "<module 'Dataloader' from 'c:\\\\Users\\\\shuai.song\\\\data\\\\Causis\\\\CTA_Trend\\\\Dataloader.py'>"
      ]
     },
     "execution_count": 232,
     "metadata": {},
     "output_type": "execute_result"
    }
   ],
   "source": [
    "import Setting as _C\n",
    "reload(_C)\n",
    "import utils as _U\n",
    "reload(_U)\n",
    "import Simulation as sim\n",
    "reload(sim)\n",
    "import Dataloader as _D\n",
    "reload(_D)"
   ]
  },
  {
   "cell_type": "code",
   "execution_count": 233,
   "metadata": {},
   "outputs": [],
   "source": [
    "## Multprocessing Usage Restrictions\n",
    "if __name__ == \"__main__\":\n",
    "    dirs = ['balance_sheet', 'features', 'trading_logs', 'v_analysis']\n",
    "\n",
    "    for dir in dirs:\n",
    "        if _C.VERSION not in os.listdir(f'output/{dir}'):\n",
    "            os.mkdir(f'output/{dir}/{_C.VERSION}')\n",
    "\n",
    "    pool = Pool(8)\n",
    "    for i in range(len(_D.commodities.keys())):\n",
    "        pool.apply_async(func=sim.wrapper_simulation, args=(list(_D.commodities.keys())[i], True, False)) # args: scom_, logger_, f_save\n",
    "    \n",
    "    pool.close()\n",
    "    pool.join()"
   ]
  },
  {
   "cell_type": "code",
   "execution_count": 222,
   "metadata": {},
   "outputs": [
    {
     "name": "stdout",
     "output_type": "stream",
     "text": [
      "[1101/1166]  | 2022-08-25 15:35:21 Done \n",
      "[1111/1166]  | 2022-08-25 15:35:22 Done \n",
      "[1121/1165]  | 2022-08-25 15:35:23 Done \n",
      "[1131/1165]  | 2022-08-25 15:35:23 Done \n",
      "[1141/1163]  | 2022-08-25 15:35:25 Done \n",
      "[1151/1162]  | 2022-08-25 15:35:26 Done \n",
      "[SELL Trading trace]      | 2022-08-25 15:35:27 Done | Using  125.918 seconds\n",
      "[Trading Simulation]      | 2022-08-25 15:35:48 Done | Using  19.782 seconds\n"
     ]
    }
   ],
   "source": [
    "sim.wrapper_simulation('rb', True, True)"
   ]
  }
 ],
 "metadata": {
  "kernelspec": {
   "display_name": "Python 3.8.5 ('base')",
   "language": "python",
   "name": "python3"
  },
  "language_info": {
   "codemirror_mode": {
    "name": "ipython",
    "version": 3
   },
   "file_extension": ".py",
   "mimetype": "text/x-python",
   "name": "python",
   "nbconvert_exporter": "python",
   "pygments_lexer": "ipython3",
   "version": "3.8.5"
  },
  "orig_nbformat": 4,
  "vscode": {
   "interpreter": {
    "hash": "ad2bdc8ecc057115af97d19610ffacc2b4e99fae6737bb82f5d7fb13d2f2c186"
   }
  }
 },
 "nbformat": 4,
 "nbformat_minor": 2
}
