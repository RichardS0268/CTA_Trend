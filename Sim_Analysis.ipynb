{
 "cells": [
  {
   "cell_type": "code",
   "execution_count": 358,
   "metadata": {},
   "outputs": [
    {
     "data": {
      "text/plain": [
       "<module 'Dataloader' from 'c:\\\\Users\\\\shuai.song\\\\data\\\\Causis\\\\CTA_Trend\\\\Dataloader.py'>"
      ]
     },
     "execution_count": 358,
     "metadata": {},
     "output_type": "execute_result"
    }
   ],
   "source": [
    "from __init__ import *\n",
    "import Setting as _C\n",
    "reload(_C)\n",
    "import utils as _U\n",
    "reload(_U)\n",
    "import Dataloader as _D\n",
    "reload(_D)"
   ]
  },
  {
   "cell_type": "code",
   "execution_count": 359,
   "metadata": {},
   "outputs": [],
   "source": [
    "PORTFOLIO_v0 = list(_C.commodities.keys())\n",
    "PORTFOLIO_v1 = ['rb', 'hc', 'i', 'm', 'bu', 'SA']\n",
    "PORTFOLIO_v2 = ['rb', 'hc', 'MA', 'l', 'p', 'v', 'CF']\n",
    "PORTFOLIO_v3 = ['p']"
   ]
  },
  {
   "cell_type": "code",
   "execution_count": 360,
   "metadata": {},
   "outputs": [],
   "source": [
    "PORTFOLIO = PORTFOLIO_v3"
   ]
  },
  {
   "cell_type": "markdown",
   "metadata": {},
   "source": [
    "### Pnl"
   ]
  },
  {
   "cell_type": "code",
   "execution_count": 361,
   "metadata": {},
   "outputs": [],
   "source": [
    "Pnl = {}\n",
    "total_d_gain = pd.Series([])\n",
    "total_d_gain = total_d_gain.reindex(_C.BACKTEST_VTD).fillna(0)\n",
    "\n",
    "# for com in _D.commodities.keys():\n",
    "for com in PORTFOLIO:\n",
    "    com_balance= pd.read_csv(f'output/balance_sheet/{_C.VERSION}/{com}_balance.csv')\n",
    "    com_balance = com_balance.set_index(com_balance.columns[0])\n",
    "    Pnl[com] = com_balance['Pnl']\n",
    "    if com in PORTFOLIO:\n",
    "        total_d_gain += com_balance['d_gain']\n",
    "\n",
    "Pnl['portfolio'] = 1 + total_d_gain.cumsum()/(len(PORTFOLIO) * _C.INIT_CAP)"
   ]
  },
  {
   "cell_type": "code",
   "execution_count": 362,
   "metadata": {},
   "outputs": [],
   "source": [
    "def draw_pnl(scom):\n",
    "    fig, axes = plt.subplots(figsize=(10, 5), dpi=80)\n",
    "    plt.title(f'{scom} Pnl')\n",
    "    Pnl[scom].plot()"
   ]
  },
  {
   "cell_type": "code",
   "execution_count": 349,
   "metadata": {},
   "outputs": [],
   "source": [
    "def Dominant_change(scom, COM, VTD):\n",
    "    dc_change = pd.DataFrame(columns=['CLOCK', 'old_c_price', 'new_c_price'])\n",
    "\n",
    "    def old_new_contract_price(dif_clock):\n",
    "        time_clock = dif_clock[-8:]\n",
    "        date = dif_clock[:10]\n",
    "\n",
    "        if time_clock == '09:01:00': # change in the morning market\n",
    "            yesterday = VTD[VTD.index(date)-1]\n",
    "            contract_log = get_dominant_contracts(f\"R.CN.{_D.commodities[scom]['exchange']}.{scom}.0004\", yesterday, date)\n",
    "            old_contract = contract_log.iloc[0]['ProductCode']\n",
    "            new_contract = contract_log.iloc[1]['ProductCode']\n",
    "\n",
    "            old_c_open_price = float(get_price(str(old_contract), date, date)['OPEN'])\n",
    "            new_c_open_price = float(get_price(str(new_contract), date, date)['OPEN'])\n",
    "\n",
    "        elif time_clock == '21:01:00': # change in the night market\n",
    "            tomorrow = VTD[VTD.index(date)+1]\n",
    "            contract_log = get_dominant_contracts(f\"R.CN.{_D.commodities[scom]['exchange']}.{scom}.0004\", date, tomorrow)\n",
    "            old_contract = contract_log.iloc[0]['ProductCode']\n",
    "            new_contract = contract_log.iloc[1]['ProductCode']\n",
    "\n",
    "            old_c_open_price = get_price(str(old_contract), date, date, 'minute1').set_index('CLOCK').loc[date+' 21:01:00']['OPEN']\n",
    "            new_c_open_price = get_price(str(new_contract), date, date, 'minute1').set_index('CLOCK').loc[date+' 21:01:00']['OPEN']\n",
    "\n",
    "        else:\n",
    "            print(f'Unexpected Time Clock: {time_clock}')\n",
    "            exit(1)\n",
    "\n",
    "        return [dif_clock, old_c_open_price, new_c_open_price]\n",
    "\n",
    "    COM['dc_change'] = COM['ADJ'].diff().fillna(0)\n",
    "    change_log = COM['CLOCK'].loc[COM['dc_change']!=0].to_list()\n",
    "\n",
    "    for t in change_log:\n",
    "        dc_change.loc[dc_change.shape[0]] = old_new_contract_price(t)\n",
    "\n",
    "    dc_change = dc_change.set_index('CLOCK', drop=False)\n",
    "    return dc_change\n",
    "\n",
    "    "
   ]
  },
  {
   "cell_type": "code",
   "execution_count": 340,
   "metadata": {},
   "outputs": [
    {
     "data": {
      "text/html": [
       "<div>\n",
       "<style scoped>\n",
       "    .dataframe tbody tr th:only-of-type {\n",
       "        vertical-align: middle;\n",
       "    }\n",
       "\n",
       "    .dataframe tbody tr th {\n",
       "        vertical-align: top;\n",
       "    }\n",
       "\n",
       "    .dataframe thead th {\n",
       "        text-align: right;\n",
       "    }\n",
       "</style>\n",
       "<table border=\"1\" class=\"dataframe\">\n",
       "  <thead>\n",
       "    <tr style=\"text-align: right;\">\n",
       "      <th></th>\n",
       "      <th>Date</th>\n",
       "      <th>ProductCode</th>\n",
       "    </tr>\n",
       "  </thead>\n",
       "  <tbody>\n",
       "    <tr>\n",
       "      <th>0</th>\n",
       "      <td>20100103</td>\n",
       "      <td>F.CN.SHF.rb.rb1005</td>\n",
       "    </tr>\n",
       "    <tr>\n",
       "      <th>1</th>\n",
       "      <td>20100104</td>\n",
       "      <td>F.CN.SHF.rb.rb1005</td>\n",
       "    </tr>\n",
       "  </tbody>\n",
       "</table>\n",
       "</div>"
      ],
      "text/plain": [
       "       Date         ProductCode\n",
       "0  20100103  F.CN.SHF.rb.rb1005\n",
       "1  20100104  F.CN.SHF.rb.rb1005"
      ]
     },
     "execution_count": 340,
     "metadata": {},
     "output_type": "execute_result"
    }
   ],
   "source": [
    "get_dominant_contracts(f\"R.CN.{_D.commodities['rb']['exchange']}.{'rb'}.0004\", '2010-01-03', '2010-01-04')"
   ]
  },
  {
   "cell_type": "code",
   "execution_count": 348,
   "metadata": {},
   "outputs": [
    {
     "data": {
      "text/html": [
       "<div>\n",
       "<style scoped>\n",
       "    .dataframe tbody tr th:only-of-type {\n",
       "        vertical-align: middle;\n",
       "    }\n",
       "\n",
       "    .dataframe tbody tr th {\n",
       "        vertical-align: top;\n",
       "    }\n",
       "\n",
       "    .dataframe thead th {\n",
       "        text-align: right;\n",
       "    }\n",
       "</style>\n",
       "<table border=\"1\" class=\"dataframe\">\n",
       "  <thead>\n",
       "    <tr style=\"text-align: right;\">\n",
       "      <th></th>\n",
       "      <th>CLOCK</th>\n",
       "      <th>oc_price</th>\n",
       "      <th>bc_price</th>\n",
       "    </tr>\n",
       "    <tr>\n",
       "      <th>CLOCK</th>\n",
       "      <th></th>\n",
       "      <th></th>\n",
       "      <th></th>\n",
       "    </tr>\n",
       "  </thead>\n",
       "  <tbody>\n",
       "    <tr>\n",
       "      <th>2010-03-09 09:01:00</th>\n",
       "      <td>2010-03-09 09:01:00</td>\n",
       "      <td>4185.0</td>\n",
       "      <td>4615.0</td>\n",
       "    </tr>\n",
       "    <tr>\n",
       "      <th>2010-07-16 09:01:00</th>\n",
       "      <td>2010-07-16 09:01:00</td>\n",
       "      <td>3917.0</td>\n",
       "      <td>4058.0</td>\n",
       "    </tr>\n",
       "    <tr>\n",
       "      <th>2010-10-14 09:01:00</th>\n",
       "      <td>2010-10-14 09:01:00</td>\n",
       "      <td>4330.0</td>\n",
       "      <td>4515.0</td>\n",
       "    </tr>\n",
       "    <tr>\n",
       "      <th>2011-02-09 09:01:00</th>\n",
       "      <td>2011-02-09 09:01:00</td>\n",
       "      <td>5003.0</td>\n",
       "      <td>5124.0</td>\n",
       "    </tr>\n",
       "    <tr>\n",
       "      <th>2011-08-05 09:01:00</th>\n",
       "      <td>2011-08-05 09:01:00</td>\n",
       "      <td>4930.0</td>\n",
       "      <td>4884.0</td>\n",
       "    </tr>\n",
       "    <tr>\n",
       "      <th>2011-11-03 09:01:00</th>\n",
       "      <td>2011-11-03 09:01:00</td>\n",
       "      <td>4041.0</td>\n",
       "      <td>4020.0</td>\n",
       "    </tr>\n",
       "    <tr>\n",
       "      <th>2012-03-02 09:01:00</th>\n",
       "      <td>2012-03-02 09:01:00</td>\n",
       "      <td>4290.0</td>\n",
       "      <td>4294.0</td>\n",
       "    </tr>\n",
       "    <tr>\n",
       "      <th>2012-07-11 09:01:00</th>\n",
       "      <td>2012-07-11 09:01:00</td>\n",
       "      <td>3988.0</td>\n",
       "      <td>3929.0</td>\n",
       "    </tr>\n",
       "    <tr>\n",
       "      <th>2012-10-23 09:01:00</th>\n",
       "      <td>2012-10-23 09:01:00</td>\n",
       "      <td>3687.0</td>\n",
       "      <td>3733.0</td>\n",
       "    </tr>\n",
       "    <tr>\n",
       "      <th>2013-02-18 09:01:00</th>\n",
       "      <td>2013-02-18 09:01:00</td>\n",
       "      <td>4130.0</td>\n",
       "      <td>4280.0</td>\n",
       "    </tr>\n",
       "    <tr>\n",
       "      <th>2013-07-03 09:01:00</th>\n",
       "      <td>2013-07-03 09:01:00</td>\n",
       "      <td>3508.0</td>\n",
       "      <td>3566.0</td>\n",
       "    </tr>\n",
       "    <tr>\n",
       "      <th>2013-10-31 09:01:00</th>\n",
       "      <td>2013-10-31 09:01:00</td>\n",
       "      <td>3519.0</td>\n",
       "      <td>3640.0</td>\n",
       "    </tr>\n",
       "    <tr>\n",
       "      <th>2014-03-04 09:01:00</th>\n",
       "      <td>2014-03-04 09:01:00</td>\n",
       "      <td>3328.0</td>\n",
       "      <td>3425.0</td>\n",
       "    </tr>\n",
       "    <tr>\n",
       "      <th>2014-07-04 09:01:00</th>\n",
       "      <td>2014-07-04 09:01:00</td>\n",
       "      <td>3084.0</td>\n",
       "      <td>3101.0</td>\n",
       "    </tr>\n",
       "    <tr>\n",
       "      <th>2014-10-20 09:01:00</th>\n",
       "      <td>2014-10-20 09:01:00</td>\n",
       "      <td>2648.0</td>\n",
       "      <td>2619.0</td>\n",
       "    </tr>\n",
       "    <tr>\n",
       "      <th>2015-03-06 21:01:00</th>\n",
       "      <td>2015-03-06 21:01:00</td>\n",
       "      <td>2417.0</td>\n",
       "      <td>2478.0</td>\n",
       "    </tr>\n",
       "    <tr>\n",
       "      <th>2015-07-17 21:01:00</th>\n",
       "      <td>2015-07-17 21:01:00</td>\n",
       "      <td>1999.0</td>\n",
       "      <td>2047.0</td>\n",
       "    </tr>\n",
       "    <tr>\n",
       "      <th>2015-11-03 21:01:00</th>\n",
       "      <td>2015-11-03 21:01:00</td>\n",
       "      <td>1779.0</td>\n",
       "      <td>1777.0</td>\n",
       "    </tr>\n",
       "    <tr>\n",
       "      <th>2016-03-11 21:01:00</th>\n",
       "      <td>2016-03-11 21:01:00</td>\n",
       "      <td>2058.0</td>\n",
       "      <td>2000.0</td>\n",
       "    </tr>\n",
       "    <tr>\n",
       "      <th>2016-08-17 21:01:00</th>\n",
       "      <td>2016-08-17 21:01:00</td>\n",
       "      <td>2581.0</td>\n",
       "      <td>2531.0</td>\n",
       "    </tr>\n",
       "    <tr>\n",
       "      <th>2016-11-25 21:01:00</th>\n",
       "      <td>2016-11-25 21:01:00</td>\n",
       "      <td>3155.0</td>\n",
       "      <td>3252.0</td>\n",
       "    </tr>\n",
       "    <tr>\n",
       "      <th>2017-03-22 21:01:00</th>\n",
       "      <td>2017-03-22 21:01:00</td>\n",
       "      <td>3409.0</td>\n",
       "      <td>3119.0</td>\n",
       "    </tr>\n",
       "    <tr>\n",
       "      <th>2017-08-07 21:01:00</th>\n",
       "      <td>2017-08-07 21:01:00</td>\n",
       "      <td>4070.0</td>\n",
       "      <td>3921.0</td>\n",
       "    </tr>\n",
       "    <tr>\n",
       "      <th>2017-11-08 21:01:00</th>\n",
       "      <td>2017-11-08 21:01:00</td>\n",
       "      <td>3736.0</td>\n",
       "      <td>3746.0</td>\n",
       "    </tr>\n",
       "    <tr>\n",
       "      <th>2018-03-27 21:01:00</th>\n",
       "      <td>2018-03-27 21:01:00</td>\n",
       "      <td>3447.0</td>\n",
       "      <td>3239.0</td>\n",
       "    </tr>\n",
       "    <tr>\n",
       "      <th>2018-08-16 21:01:00</th>\n",
       "      <td>2018-08-16 21:01:00</td>\n",
       "      <td>4332.0</td>\n",
       "      <td>4166.0</td>\n",
       "    </tr>\n",
       "    <tr>\n",
       "      <th>2018-11-27 21:01:00</th>\n",
       "      <td>2018-11-27 21:01:00</td>\n",
       "      <td>3560.0</td>\n",
       "      <td>3230.0</td>\n",
       "    </tr>\n",
       "    <tr>\n",
       "      <th>2019-03-29 21:01:00</th>\n",
       "      <td>2019-03-29 21:01:00</td>\n",
       "      <td>3760.0</td>\n",
       "      <td>3470.0</td>\n",
       "    </tr>\n",
       "    <tr>\n",
       "      <th>2019-08-21 21:01:00</th>\n",
       "      <td>2019-08-21 21:01:00</td>\n",
       "      <td>3678.0</td>\n",
       "      <td>3420.0</td>\n",
       "    </tr>\n",
       "    <tr>\n",
       "      <th>2019-12-04 21:01:00</th>\n",
       "      <td>2019-12-04 21:01:00</td>\n",
       "      <td>3603.0</td>\n",
       "      <td>3417.0</td>\n",
       "    </tr>\n",
       "    <tr>\n",
       "      <th>2020-03-20 09:01:00</th>\n",
       "      <td>2020-03-20 09:01:00</td>\n",
       "      <td>3540.0</td>\n",
       "      <td>3445.0</td>\n",
       "    </tr>\n",
       "    <tr>\n",
       "      <th>2020-08-21 21:01:00</th>\n",
       "      <td>2020-08-21 21:01:00</td>\n",
       "      <td>3775.0</td>\n",
       "      <td>3728.0</td>\n",
       "    </tr>\n",
       "    <tr>\n",
       "      <th>2020-12-03 21:01:00</th>\n",
       "      <td>2020-12-03 21:01:00</td>\n",
       "      <td>3868.0</td>\n",
       "      <td>3776.0</td>\n",
       "    </tr>\n",
       "    <tr>\n",
       "      <th>2021-03-31 21:01:00</th>\n",
       "      <td>2021-03-31 21:01:00</td>\n",
       "      <td>4941.0</td>\n",
       "      <td>4834.0</td>\n",
       "    </tr>\n",
       "    <tr>\n",
       "      <th>2021-08-10 21:01:00</th>\n",
       "      <td>2021-08-10 21:01:00</td>\n",
       "      <td>5440.0</td>\n",
       "      <td>5500.0</td>\n",
       "    </tr>\n",
       "    <tr>\n",
       "      <th>2021-11-16 21:01:00</th>\n",
       "      <td>2021-11-16 21:01:00</td>\n",
       "      <td>4128.0</td>\n",
       "      <td>3883.0</td>\n",
       "    </tr>\n",
       "    <tr>\n",
       "      <th>2022-03-24 21:01:00</th>\n",
       "      <td>2022-03-24 21:01:00</td>\n",
       "      <td>4945.0</td>\n",
       "      <td>4885.0</td>\n",
       "    </tr>\n",
       "  </tbody>\n",
       "</table>\n",
       "</div>"
      ],
      "text/plain": [
       "                                   CLOCK  oc_price  bc_price\n",
       "CLOCK                                                       \n",
       "2010-03-09 09:01:00  2010-03-09 09:01:00    4185.0    4615.0\n",
       "2010-07-16 09:01:00  2010-07-16 09:01:00    3917.0    4058.0\n",
       "2010-10-14 09:01:00  2010-10-14 09:01:00    4330.0    4515.0\n",
       "2011-02-09 09:01:00  2011-02-09 09:01:00    5003.0    5124.0\n",
       "2011-08-05 09:01:00  2011-08-05 09:01:00    4930.0    4884.0\n",
       "2011-11-03 09:01:00  2011-11-03 09:01:00    4041.0    4020.0\n",
       "2012-03-02 09:01:00  2012-03-02 09:01:00    4290.0    4294.0\n",
       "2012-07-11 09:01:00  2012-07-11 09:01:00    3988.0    3929.0\n",
       "2012-10-23 09:01:00  2012-10-23 09:01:00    3687.0    3733.0\n",
       "2013-02-18 09:01:00  2013-02-18 09:01:00    4130.0    4280.0\n",
       "2013-07-03 09:01:00  2013-07-03 09:01:00    3508.0    3566.0\n",
       "2013-10-31 09:01:00  2013-10-31 09:01:00    3519.0    3640.0\n",
       "2014-03-04 09:01:00  2014-03-04 09:01:00    3328.0    3425.0\n",
       "2014-07-04 09:01:00  2014-07-04 09:01:00    3084.0    3101.0\n",
       "2014-10-20 09:01:00  2014-10-20 09:01:00    2648.0    2619.0\n",
       "2015-03-06 21:01:00  2015-03-06 21:01:00    2417.0    2478.0\n",
       "2015-07-17 21:01:00  2015-07-17 21:01:00    1999.0    2047.0\n",
       "2015-11-03 21:01:00  2015-11-03 21:01:00    1779.0    1777.0\n",
       "2016-03-11 21:01:00  2016-03-11 21:01:00    2058.0    2000.0\n",
       "2016-08-17 21:01:00  2016-08-17 21:01:00    2581.0    2531.0\n",
       "2016-11-25 21:01:00  2016-11-25 21:01:00    3155.0    3252.0\n",
       "2017-03-22 21:01:00  2017-03-22 21:01:00    3409.0    3119.0\n",
       "2017-08-07 21:01:00  2017-08-07 21:01:00    4070.0    3921.0\n",
       "2017-11-08 21:01:00  2017-11-08 21:01:00    3736.0    3746.0\n",
       "2018-03-27 21:01:00  2018-03-27 21:01:00    3447.0    3239.0\n",
       "2018-08-16 21:01:00  2018-08-16 21:01:00    4332.0    4166.0\n",
       "2018-11-27 21:01:00  2018-11-27 21:01:00    3560.0    3230.0\n",
       "2019-03-29 21:01:00  2019-03-29 21:01:00    3760.0    3470.0\n",
       "2019-08-21 21:01:00  2019-08-21 21:01:00    3678.0    3420.0\n",
       "2019-12-04 21:01:00  2019-12-04 21:01:00    3603.0    3417.0\n",
       "2020-03-20 09:01:00  2020-03-20 09:01:00    3540.0    3445.0\n",
       "2020-08-21 21:01:00  2020-08-21 21:01:00    3775.0    3728.0\n",
       "2020-12-03 21:01:00  2020-12-03 21:01:00    3868.0    3776.0\n",
       "2021-03-31 21:01:00  2021-03-31 21:01:00    4941.0    4834.0\n",
       "2021-08-10 21:01:00  2021-08-10 21:01:00    5440.0    5500.0\n",
       "2021-11-16 21:01:00  2021-11-16 21:01:00    4128.0    3883.0\n",
       "2022-03-24 21:01:00  2022-03-24 21:01:00    4945.0    4885.0"
      ]
     },
     "execution_count": 348,
     "metadata": {},
     "output_type": "execute_result"
    }
   ],
   "source": [
    "Dominant_change('rb', tmp_com, VTD)"
   ]
  },
  {
   "cell_type": "code",
   "execution_count": null,
   "metadata": {},
   "outputs": [],
   "source": []
  },
  {
   "cell_type": "code",
   "execution_count": 307,
   "metadata": {},
   "outputs": [
    {
     "data": {
      "text/plain": [
       "(2417.0, 2478.0)"
      ]
     },
     "execution_count": 307,
     "metadata": {},
     "output_type": "execute_result"
    }
   ],
   "source": [
    "dc_change('rb', '2015-03-06 21:01:00', VTD)"
   ]
  },
  {
   "cell_type": "code",
   "execution_count": 300,
   "metadata": {},
   "outputs": [
    {
     "data": {
      "text/plain": [
       "4901.0"
      ]
     },
     "execution_count": 300,
     "metadata": {},
     "output_type": "execute_result"
    }
   ],
   "source": [
    "get_price('F.CN.SHF.rb.rb2110', '2021-03-30', '2021-03-30', 'minute1').set_index('CLOCK').loc['2021-03-30 21:01:00']['OPEN']"
   ]
  },
  {
   "cell_type": "code",
   "execution_count": 293,
   "metadata": {},
   "outputs": [],
   "source": [
    "slice = get_dominant_contracts(f\"R.CN.{_D.commodities['rb']['exchange']}.{'rb'}.0004\", '2021-03-31', '2021-04-01')"
   ]
  },
  {
   "cell_type": "code",
   "execution_count": 294,
   "metadata": {},
   "outputs": [
    {
     "data": {
      "text/html": [
       "<div>\n",
       "<style scoped>\n",
       "    .dataframe tbody tr th:only-of-type {\n",
       "        vertical-align: middle;\n",
       "    }\n",
       "\n",
       "    .dataframe tbody tr th {\n",
       "        vertical-align: top;\n",
       "    }\n",
       "\n",
       "    .dataframe thead th {\n",
       "        text-align: right;\n",
       "    }\n",
       "</style>\n",
       "<table border=\"1\" class=\"dataframe\">\n",
       "  <thead>\n",
       "    <tr style=\"text-align: right;\">\n",
       "      <th></th>\n",
       "      <th>Date</th>\n",
       "      <th>ProductCode</th>\n",
       "    </tr>\n",
       "  </thead>\n",
       "  <tbody>\n",
       "    <tr>\n",
       "      <th>0</th>\n",
       "      <td>20210331</td>\n",
       "      <td>F.CN.SHF.rb.rb2105</td>\n",
       "    </tr>\n",
       "    <tr>\n",
       "      <th>1</th>\n",
       "      <td>20210401</td>\n",
       "      <td>F.CN.SHF.rb.rb2110</td>\n",
       "    </tr>\n",
       "  </tbody>\n",
       "</table>\n",
       "</div>"
      ],
      "text/plain": [
       "       Date         ProductCode\n",
       "0  20210331  F.CN.SHF.rb.rb2105\n",
       "1  20210401  F.CN.SHF.rb.rb2110"
      ]
     },
     "execution_count": 294,
     "metadata": {},
     "output_type": "execute_result"
    }
   ],
   "source": [
    "slice"
   ]
  },
  {
   "cell_type": "code",
   "execution_count": 234,
   "metadata": {},
   "outputs": [
    {
     "data": {
      "text/plain": [
       "<matplotlib.axes._subplots.AxesSubplot at 0x6800a7a220>"
      ]
     },
     "execution_count": 234,
     "metadata": {},
     "output_type": "execute_result"
    },
    {
     "data": {
      "image/png": "[encoded data removed]",
      "text/plain": [
       "<Figure size 432x288 with 1 Axes>"
      ]
     },
     "metadata": {
      "needs_background": "light"
     },
     "output_type": "display_data"
    }
   ],
   "source": [
    "features.loc['2022-04-06 09:10:00': '2022-04-06 21:10:00']['CLOSE_adj'].plot()"
   ]
  },
  {
   "cell_type": "code",
   "execution_count": 218,
   "metadata": {},
   "outputs": [
    {
     "data": {
      "text/plain": [
       "<matplotlib.axes._subplots.AxesSubplot at 0x68009962e0>"
      ]
     },
     "execution_count": 218,
     "metadata": {},
     "output_type": "execute_result"
    },
    {
     "data": {
      "image/png": "[encoded data removed]",
      "text/plain": [
       "<Figure size 432x288 with 1 Axes>"
      ]
     },
     "metadata": {
      "needs_background": "light"
     },
     "output_type": "display_data"
    }
   ],
   "source": [
    "features.loc['2022-03-01 09:09:00': '2022-03-02 22:15:00']['CLOSE'].plot()"
   ]
  },
  {
   "cell_type": "code",
   "execution_count": 194,
   "metadata": {},
   "outputs": [
    {
     "data": {
      "image/png": "[encoded data removed]",
      "text/plain": [
       "<Figure size 800x400 with 1 Axes>"
      ]
     },
     "metadata": {
      "needs_background": "light"
     },
     "output_type": "display_data"
    }
   ],
   "source": [
    "draw_pnl('portfolio')"
   ]
  },
  {
   "cell_type": "code",
   "execution_count": 181,
   "metadata": {},
   "outputs": [
    {
     "data": {
      "image/png": "[encoded data removed]",
      "text/plain": [
       "<Figure size 800x400 with 1 Axes>"
      ]
     },
     "metadata": {
      "needs_background": "light"
     },
     "output_type": "display_data"
    }
   ],
   "source": [
    "draw_pnl('p')"
   ]
  },
  {
   "cell_type": "code",
   "execution_count": 105,
   "metadata": {},
   "outputs": [
    {
     "data": {
      "image/png": "[encoded data removed]",
      "text/plain": [
       "<Figure size 800x400 with 1 Axes>"
      ]
     },
     "metadata": {
      "needs_background": "light"
     },
     "output_type": "display_data"
    }
   ],
   "source": [
    "draw_pnl('p')"
   ]
  },
  {
   "cell_type": "code",
   "execution_count": 106,
   "metadata": {},
   "outputs": [],
   "source": [
    "with open(f'./output/v_analysis/{_C.VERSION}/Pnl.pkl', 'wb') as f:\n",
    "    pickle.dump(Pnl, f)"
   ]
  },
  {
   "cell_type": "code",
   "execution_count": 107,
   "metadata": {},
   "outputs": [],
   "source": [
    "def profitable_analysis(_pnl):\n",
    "    report = pd.DataFrame(columns=['Annual Return', 'Std', 'Sharpe', 'MaxDrawdown', 'Calmar'])\n",
    "    Annual_r = (_pnl.diff()/_pnl.shift(1)).mean()*252\n",
    "    Std = (_pnl.diff()/_pnl.shift(1)).std()*np.sqrt(252)\n",
    "    Sharpe = Annual_r / Std\n",
    "    MaxDrawdown = (1 - list(_pnl)/pd.Series(list(_pnl.rolling(len(_pnl)))).apply(lambda x: x.max())).max()\n",
    "    Calmar = Annual_r / MaxDrawdown\n",
    "    report.loc[report.shape[0]] = [Annual_r, Std, Sharpe, MaxDrawdown, Calmar]\n",
    "    return report"
   ]
  },
  {
   "cell_type": "code",
   "execution_count": 108,
   "metadata": {},
   "outputs": [
    {
     "data": {
      "text/html": [
       "<div>\n",
       "<style scoped>\n",
       "    .dataframe tbody tr th:only-of-type {\n",
       "        vertical-align: middle;\n",
       "    }\n",
       "\n",
       "    .dataframe tbody tr th {\n",
       "        vertical-align: top;\n",
       "    }\n",
       "\n",
       "    .dataframe thead th {\n",
       "        text-align: right;\n",
       "    }\n",
       "</style>\n",
       "<table border=\"1\" class=\"dataframe\">\n",
       "  <thead>\n",
       "    <tr style=\"text-align: right;\">\n",
       "      <th></th>\n",
       "      <th>Annual Return</th>\n",
       "      <th>Std</th>\n",
       "      <th>Sharpe</th>\n",
       "      <th>MaxDrawdown</th>\n",
       "      <th>Calmar</th>\n",
       "    </tr>\n",
       "  </thead>\n",
       "  <tbody>\n",
       "    <tr>\n",
       "      <th>0</th>\n",
       "      <td>0.044397</td>\n",
       "      <td>0.052304</td>\n",
       "      <td>0.84882</td>\n",
       "      <td>0.058336</td>\n",
       "      <td>0.761059</td>\n",
       "    </tr>\n",
       "  </tbody>\n",
       "</table>\n",
       "</div>"
      ],
      "text/plain": [
       "   Annual Return       Std   Sharpe  MaxDrawdown    Calmar\n",
       "0       0.044397  0.052304  0.84882     0.058336  0.761059"
      ]
     },
     "execution_count": 108,
     "metadata": {},
     "output_type": "execute_result"
    }
   ],
   "source": [
    "profitable_analysis(Pnl['portfolio'])"
   ]
  },
  {
   "cell_type": "markdown",
   "metadata": {},
   "source": [
    "### Win-Loss"
   ]
  },
  {
   "cell_type": "code",
   "execution_count": 109,
   "metadata": {},
   "outputs": [],
   "source": [
    "trading_logs = {}\n",
    "all_buy = pd.DataFrame()\n",
    "all_sell = pd.DataFrame()\n",
    "all_total = pd.DataFrame()\n",
    "\n",
    "for com in _C.commodities.keys():\n",
    "    com_log = np.load(f'output/trading_logs/{_C.VERSION}/{com}_logs.npy', allow_pickle=True)\n",
    "    com_log = com_log.tolist() # [BUY_log, SELL_log, TOTAL_log]\n",
    "    trading_logs[com] = com_log\n",
    "\n",
    "    if com in PORTFOLIO:\n",
    "        all_buy = all_buy.append(com_log[0])\n",
    "        all_sell = all_sell.append(com_log[1])\n",
    "        all_total = all_total.append(com_log[2])\n",
    "\n",
    "trading_logs['portfolio'] = [all_buy, all_sell, all_total]"
   ]
  },
  {
   "cell_type": "code",
   "execution_count": 110,
   "metadata": {},
   "outputs": [],
   "source": [
    "def cal_win_rate(_df_):\n",
    "    return round(_df_['gain'].loc[_df_['gain']>0].shape[0] / _df_['gain'].shape[0], 4)\n",
    "\n",
    "def cal_win_loss_ratio(_df_):\n",
    "    return round(_df_['gain'].loc[_df_['gain']>0].sum() / _df_['gain'].loc[_df_['gain']<0].sum() * -1, 4)"
   ]
  },
  {
   "cell_type": "code",
   "execution_count": 111,
   "metadata": {},
   "outputs": [],
   "source": [
    "cols = ['BUY_wr', 'SELL_wr', 'TOTAL_wr', 'BUY_wlr', 'SELL_wlr', 'TOTAL_wlr']\n",
    "symbols = list(_D.commodities.keys())+['portfolio']"
   ]
  },
  {
   "cell_type": "code",
   "execution_count": 112,
   "metadata": {},
   "outputs": [],
   "source": [
    "Win_Loss_Analysis = pd.DataFrame(columns=symbols)\n",
    "WLA = Win_Loss_Analysis.reindex(cols).transpose()"
   ]
  },
  {
   "cell_type": "code",
   "execution_count": 113,
   "metadata": {},
   "outputs": [],
   "source": [
    "for com in symbols:\n",
    "    buy_log = trading_logs[com][0]\n",
    "    sell_log= trading_logs[com][1]\n",
    "    total_log = trading_logs[com][2]\n",
    "\n",
    "    WLA['BUY_wr'][com] = cal_win_rate(buy_log)\n",
    "    WLA['SELL_wr'][com] = cal_win_rate(sell_log)\n",
    "    WLA['TOTAL_wr'][com] = cal_win_rate(total_log)\n",
    "\n",
    "    WLA['BUY_wlr'][com] = cal_win_loss_ratio(buy_log)\n",
    "    WLA['SELL_wlr'][com] = cal_win_loss_ratio(sell_log)\n",
    "    WLA['TOTAL_wlr'][com] = cal_win_loss_ratio(total_log)"
   ]
  },
  {
   "cell_type": "code",
   "execution_count": 114,
   "metadata": {},
   "outputs": [
    {
     "data": {
      "text/html": [
       "<div>\n",
       "<style scoped>\n",
       "    .dataframe tbody tr th:only-of-type {\n",
       "        vertical-align: middle;\n",
       "    }\n",
       "\n",
       "    .dataframe tbody tr th {\n",
       "        vertical-align: top;\n",
       "    }\n",
       "\n",
       "    .dataframe thead th {\n",
       "        text-align: right;\n",
       "    }\n",
       "</style>\n",
       "<table border=\"1\" class=\"dataframe\">\n",
       "  <thead>\n",
       "    <tr style=\"text-align: right;\">\n",
       "      <th></th>\n",
       "      <th>BUY_wr</th>\n",
       "      <th>SELL_wr</th>\n",
       "      <th>TOTAL_wr</th>\n",
       "      <th>BUY_wlr</th>\n",
       "      <th>SELL_wlr</th>\n",
       "      <th>TOTAL_wlr</th>\n",
       "    </tr>\n",
       "  </thead>\n",
       "  <tbody>\n",
       "    <tr>\n",
       "      <th>rb</th>\n",
       "      <td>0.3384</td>\n",
       "      <td>0.3248</td>\n",
       "      <td>0.3291</td>\n",
       "      <td>1.3729</td>\n",
       "      <td>1.2174</td>\n",
       "      <td>1.2576</td>\n",
       "    </tr>\n",
       "    <tr>\n",
       "      <th>hc</th>\n",
       "      <td>0.3477</td>\n",
       "      <td>0.2953</td>\n",
       "      <td>0.3333</td>\n",
       "      <td>1.5112</td>\n",
       "      <td>0.8504</td>\n",
       "      <td>1.2573</td>\n",
       "    </tr>\n",
       "    <tr>\n",
       "      <th>i</th>\n",
       "      <td>0.278</td>\n",
       "      <td>0.3006</td>\n",
       "      <td>0.2885</td>\n",
       "      <td>1.1101</td>\n",
       "      <td>1.2753</td>\n",
       "      <td>1.1967</td>\n",
       "    </tr>\n",
       "    <tr>\n",
       "      <th>m</th>\n",
       "      <td>0.3516</td>\n",
       "      <td>0.291</td>\n",
       "      <td>0.3208</td>\n",
       "      <td>1.0446</td>\n",
       "      <td>0.8528</td>\n",
       "      <td>0.92</td>\n",
       "    </tr>\n",
       "    <tr>\n",
       "      <th>pp</th>\n",
       "      <td>0.2812</td>\n",
       "      <td>0.3333</td>\n",
       "      <td>0.3081</td>\n",
       "      <td>0.8495</td>\n",
       "      <td>1.0997</td>\n",
       "      <td>0.991</td>\n",
       "    </tr>\n",
       "    <tr>\n",
       "      <th>MA</th>\n",
       "      <td>0.3283</td>\n",
       "      <td>0.3598</td>\n",
       "      <td>0.3534</td>\n",
       "      <td>1.0027</td>\n",
       "      <td>1.2597</td>\n",
       "      <td>1.1973</td>\n",
       "    </tr>\n",
       "    <tr>\n",
       "      <th>bu</th>\n",
       "      <td>0.2626</td>\n",
       "      <td>0.2892</td>\n",
       "      <td>0.276</td>\n",
       "      <td>1.0574</td>\n",
       "      <td>1.1479</td>\n",
       "      <td>1.1306</td>\n",
       "    </tr>\n",
       "    <tr>\n",
       "      <th>l</th>\n",
       "      <td>0.2943</td>\n",
       "      <td>0.3005</td>\n",
       "      <td>0.3002</td>\n",
       "      <td>0.8852</td>\n",
       "      <td>1.1249</td>\n",
       "      <td>1.0106</td>\n",
       "    </tr>\n",
       "    <tr>\n",
       "      <th>p</th>\n",
       "      <td>0.3032</td>\n",
       "      <td>0.3199</td>\n",
       "      <td>0.3126</td>\n",
       "      <td>0.8999</td>\n",
       "      <td>1.3108</td>\n",
       "      <td>1.1238</td>\n",
       "    </tr>\n",
       "    <tr>\n",
       "      <th>v</th>\n",
       "      <td>0.2798</td>\n",
       "      <td>0.3113</td>\n",
       "      <td>0.3117</td>\n",
       "      <td>0.9376</td>\n",
       "      <td>1.0351</td>\n",
       "      <td>1.1355</td>\n",
       "    </tr>\n",
       "    <tr>\n",
       "      <th>CF</th>\n",
       "      <td>0.2987</td>\n",
       "      <td>0.3096</td>\n",
       "      <td>0.2996</td>\n",
       "      <td>1.0736</td>\n",
       "      <td>1.1802</td>\n",
       "      <td>1.2214</td>\n",
       "    </tr>\n",
       "    <tr>\n",
       "      <th>OI</th>\n",
       "      <td>0.3099</td>\n",
       "      <td>0.2644</td>\n",
       "      <td>0.2859</td>\n",
       "      <td>1.0336</td>\n",
       "      <td>1.3164</td>\n",
       "      <td>1.2096</td>\n",
       "    </tr>\n",
       "    <tr>\n",
       "      <th>SR</th>\n",
       "      <td>0.3043</td>\n",
       "      <td>0.3198</td>\n",
       "      <td>0.3108</td>\n",
       "      <td>1.0432</td>\n",
       "      <td>0.9763</td>\n",
       "      <td>1.0086</td>\n",
       "    </tr>\n",
       "    <tr>\n",
       "      <th>TA</th>\n",
       "      <td>0.2857</td>\n",
       "      <td>0.2829</td>\n",
       "      <td>0.2865</td>\n",
       "      <td>1.0946</td>\n",
       "      <td>1.1221</td>\n",
       "      <td>1.0968</td>\n",
       "    </tr>\n",
       "    <tr>\n",
       "      <th>SA</th>\n",
       "      <td>0.3818</td>\n",
       "      <td>0.2299</td>\n",
       "      <td>0.3314</td>\n",
       "      <td>1.5735</td>\n",
       "      <td>0.7152</td>\n",
       "      <td>1.1367</td>\n",
       "    </tr>\n",
       "    <tr>\n",
       "      <th>portfolio</th>\n",
       "      <td>0.3113</td>\n",
       "      <td>0.3169</td>\n",
       "      <td>0.3183</td>\n",
       "      <td>1.0249</td>\n",
       "      <td>1.1553</td>\n",
       "      <td>1.1564</td>\n",
       "    </tr>\n",
       "  </tbody>\n",
       "</table>\n",
       "</div>"
      ],
      "text/plain": [
       "           BUY_wr SELL_wr TOTAL_wr BUY_wlr SELL_wlr TOTAL_wlr\n",
       "rb         0.3384  0.3248   0.3291  1.3729   1.2174    1.2576\n",
       "hc         0.3477  0.2953   0.3333  1.5112   0.8504    1.2573\n",
       "i           0.278  0.3006   0.2885  1.1101   1.2753    1.1967\n",
       "m          0.3516   0.291   0.3208  1.0446   0.8528      0.92\n",
       "pp         0.2812  0.3333   0.3081  0.8495   1.0997     0.991\n",
       "MA         0.3283  0.3598   0.3534  1.0027   1.2597    1.1973\n",
       "bu         0.2626  0.2892    0.276  1.0574   1.1479    1.1306\n",
       "l          0.2943  0.3005   0.3002  0.8852   1.1249    1.0106\n",
       "p          0.3032  0.3199   0.3126  0.8999   1.3108    1.1238\n",
       "v          0.2798  0.3113   0.3117  0.9376   1.0351    1.1355\n",
       "CF         0.2987  0.3096   0.2996  1.0736   1.1802    1.2214\n",
       "OI         0.3099  0.2644   0.2859  1.0336   1.3164    1.2096\n",
       "SR         0.3043  0.3198   0.3108  1.0432   0.9763    1.0086\n",
       "TA         0.2857  0.2829   0.2865  1.0946   1.1221    1.0968\n",
       "SA         0.3818  0.2299   0.3314  1.5735   0.7152    1.1367\n",
       "portfolio  0.3113  0.3169   0.3183  1.0249   1.1553    1.1564"
      ]
     },
     "execution_count": 114,
     "metadata": {},
     "output_type": "execute_result"
    }
   ],
   "source": [
    "WLA"
   ]
  },
  {
   "cell_type": "code",
   "execution_count": 115,
   "metadata": {},
   "outputs": [],
   "source": [
    "WLA.to_csv(f'./output/v_analysis/{_C.VERSION}/Win-Loss.csv')"
   ]
  },
  {
   "cell_type": "code",
   "execution_count": 118,
   "metadata": {},
   "outputs": [],
   "source": [
    "cc = pd.read_csv('./output/v_analysis/v2/Win-Loss.csv', index_col=0)"
   ]
  },
  {
   "cell_type": "markdown",
   "metadata": {},
   "source": [
    "### Positions"
   ]
  },
  {
   "cell_type": "markdown",
   "metadata": {},
   "source": [
    "#### Positions Holding Time"
   ]
  },
  {
   "cell_type": "code",
   "execution_count": 120,
   "metadata": {},
   "outputs": [],
   "source": [
    "hold_t = {}\n",
    "all_hold_t = []\n",
    "all_hold_t = pd.Series(all_hold_t)\n",
    "\n",
    "for com in _C.commodities.keys():\n",
    "    _df = trading_logs[com][2].copy(deep=True)\n",
    "\n",
    "    delta_t = pd.to_datetime(_df['close_date']) - pd.to_datetime(_df['open_date'])\n",
    "    _df['hold_t'] = (delta_t).apply(lambda x: x.total_seconds()/60)\n",
    "\n",
    "    hold_t[com] = _df['hold_t']\n",
    "    if com in PORTFOLIO:\n",
    "        all_hold_t = all_hold_t.append(_df['hold_t'])\n",
    "\n",
    "hold_t['portfolio'] = all_hold_t"
   ]
  },
  {
   "cell_type": "code",
   "execution_count": 121,
   "metadata": {},
   "outputs": [],
   "source": [
    "def hold_t_analysis(scom):\n",
    "    ht = hold_t[scom]\n",
    "    print(ht.describe())\n",
    "    ht.hist(bins=20)"
   ]
  },
  {
   "cell_type": "code",
   "execution_count": 122,
   "metadata": {},
   "outputs": [],
   "source": [
    "cols_2 = ['count','mean', 'std', 'min', '25%', '50%', '75%', 'max']\n",
    "HTA = pd.DataFrame(columns=symbols)\n",
    "HTA = HTA.reindex(cols_2).transpose()"
   ]
  },
  {
   "cell_type": "code",
   "execution_count": 123,
   "metadata": {},
   "outputs": [],
   "source": [
    "for com in symbols:\n",
    "    ht = hold_t[com]\n",
    "    des = list(ht.describe())\n",
    "    for i in cols_2:\n",
    "        HTA[i][com] = round(int(des[cols_2.index(i)])/60, 1) if cols_2.index(i)>0 else des[cols_2.index(i)]"
   ]
  },
  {
   "cell_type": "code",
   "execution_count": 124,
   "metadata": {},
   "outputs": [
    {
     "data": {
      "text/html": [
       "<div>\n",
       "<style scoped>\n",
       "    .dataframe tbody tr th:only-of-type {\n",
       "        vertical-align: middle;\n",
       "    }\n",
       "\n",
       "    .dataframe tbody tr th {\n",
       "        vertical-align: top;\n",
       "    }\n",
       "\n",
       "    .dataframe thead th {\n",
       "        text-align: right;\n",
       "    }\n",
       "</style>\n",
       "<table border=\"1\" class=\"dataframe\">\n",
       "  <thead>\n",
       "    <tr style=\"text-align: right;\">\n",
       "      <th></th>\n",
       "      <th>count</th>\n",
       "      <th>mean</th>\n",
       "      <th>std</th>\n",
       "      <th>min</th>\n",
       "      <th>25%</th>\n",
       "      <th>50%</th>\n",
       "      <th>75%</th>\n",
       "      <th>max</th>\n",
       "    </tr>\n",
       "  </thead>\n",
       "  <tbody>\n",
       "    <tr>\n",
       "      <th>rb</th>\n",
       "      <td>793</td>\n",
       "      <td>70.6</td>\n",
       "      <td>108.8</td>\n",
       "      <td>0</td>\n",
       "      <td>0</td>\n",
       "      <td>24</td>\n",
       "      <td>96</td>\n",
       "      <td>840</td>\n",
       "    </tr>\n",
       "    <tr>\n",
       "      <th>hc</th>\n",
       "      <td>558</td>\n",
       "      <td>67.6</td>\n",
       "      <td>128.1</td>\n",
       "      <td>0</td>\n",
       "      <td>0</td>\n",
       "      <td>24</td>\n",
       "      <td>72</td>\n",
       "      <td>1320</td>\n",
       "    </tr>\n",
       "    <tr>\n",
       "      <th>i</th>\n",
       "      <td>558</td>\n",
       "      <td>62.9</td>\n",
       "      <td>94.5</td>\n",
       "      <td>0</td>\n",
       "      <td>0</td>\n",
       "      <td>24</td>\n",
       "      <td>72</td>\n",
       "      <td>888</td>\n",
       "    </tr>\n",
       "    <tr>\n",
       "      <th>m</th>\n",
       "      <td>904</td>\n",
       "      <td>67</td>\n",
       "      <td>103.8</td>\n",
       "      <td>0</td>\n",
       "      <td>0</td>\n",
       "      <td>24</td>\n",
       "      <td>72</td>\n",
       "      <td>888</td>\n",
       "    </tr>\n",
       "    <tr>\n",
       "      <th>pp</th>\n",
       "      <td>516</td>\n",
       "      <td>68.2</td>\n",
       "      <td>98.6</td>\n",
       "      <td>0</td>\n",
       "      <td>0</td>\n",
       "      <td>24</td>\n",
       "      <td>96</td>\n",
       "      <td>768</td>\n",
       "    </tr>\n",
       "    <tr>\n",
       "      <th>MA</th>\n",
       "      <td>566</td>\n",
       "      <td>59.5</td>\n",
       "      <td>83.9</td>\n",
       "      <td>0</td>\n",
       "      <td>0</td>\n",
       "      <td>24</td>\n",
       "      <td>72</td>\n",
       "      <td>672</td>\n",
       "    </tr>\n",
       "    <tr>\n",
       "      <th>bu</th>\n",
       "      <td>645</td>\n",
       "      <td>59.1</td>\n",
       "      <td>93.1</td>\n",
       "      <td>0</td>\n",
       "      <td>0</td>\n",
       "      <td>24</td>\n",
       "      <td>72</td>\n",
       "      <td>888</td>\n",
       "    </tr>\n",
       "    <tr>\n",
       "      <th>l</th>\n",
       "      <td>643</td>\n",
       "      <td>86.1</td>\n",
       "      <td>131.7</td>\n",
       "      <td>0</td>\n",
       "      <td>0</td>\n",
       "      <td>24</td>\n",
       "      <td>120</td>\n",
       "      <td>1032</td>\n",
       "    </tr>\n",
       "    <tr>\n",
       "      <th>p</th>\n",
       "      <td>899</td>\n",
       "      <td>62.9</td>\n",
       "      <td>92.8</td>\n",
       "      <td>0</td>\n",
       "      <td>0</td>\n",
       "      <td>24</td>\n",
       "      <td>72</td>\n",
       "      <td>696</td>\n",
       "    </tr>\n",
       "    <tr>\n",
       "      <th>v</th>\n",
       "      <td>677</td>\n",
       "      <td>90</td>\n",
       "      <td>139.3</td>\n",
       "      <td>0</td>\n",
       "      <td>24</td>\n",
       "      <td>48</td>\n",
       "      <td>96</td>\n",
       "      <td>1128</td>\n",
       "    </tr>\n",
       "    <tr>\n",
       "      <th>CF</th>\n",
       "      <td>821</td>\n",
       "      <td>68.1</td>\n",
       "      <td>115.3</td>\n",
       "      <td>0</td>\n",
       "      <td>0</td>\n",
       "      <td>24</td>\n",
       "      <td>72</td>\n",
       "      <td>1008</td>\n",
       "    </tr>\n",
       "    <tr>\n",
       "      <th>OI</th>\n",
       "      <td>731</td>\n",
       "      <td>57.8</td>\n",
       "      <td>90.7</td>\n",
       "      <td>0</td>\n",
       "      <td>0</td>\n",
       "      <td>24</td>\n",
       "      <td>72</td>\n",
       "      <td>720</td>\n",
       "    </tr>\n",
       "    <tr>\n",
       "      <th>SR</th>\n",
       "      <td>901</td>\n",
       "      <td>62.6</td>\n",
       "      <td>95.9</td>\n",
       "      <td>0</td>\n",
       "      <td>0</td>\n",
       "      <td>24</td>\n",
       "      <td>72</td>\n",
       "      <td>984</td>\n",
       "    </tr>\n",
       "    <tr>\n",
       "      <th>TA</th>\n",
       "      <td>869</td>\n",
       "      <td>63.8</td>\n",
       "      <td>109.2</td>\n",
       "      <td>0</td>\n",
       "      <td>0</td>\n",
       "      <td>24</td>\n",
       "      <td>72</td>\n",
       "      <td>1032</td>\n",
       "    </tr>\n",
       "    <tr>\n",
       "      <th>SA</th>\n",
       "      <td>172</td>\n",
       "      <td>66.8</td>\n",
       "      <td>108.1</td>\n",
       "      <td>0</td>\n",
       "      <td>0</td>\n",
       "      <td>24</td>\n",
       "      <td>72</td>\n",
       "      <td>816</td>\n",
       "    </tr>\n",
       "    <tr>\n",
       "      <th>portfolio</th>\n",
       "      <td>4957</td>\n",
       "      <td>71.8</td>\n",
       "      <td>115.3</td>\n",
       "      <td>0</td>\n",
       "      <td>0</td>\n",
       "      <td>24</td>\n",
       "      <td>96</td>\n",
       "      <td>1320</td>\n",
       "    </tr>\n",
       "  </tbody>\n",
       "</table>\n",
       "</div>"
      ],
      "text/plain": [
       "          count  mean    std min 25% 50%  75%   max\n",
       "rb          793  70.6  108.8   0   0  24   96   840\n",
       "hc          558  67.6  128.1   0   0  24   72  1320\n",
       "i           558  62.9   94.5   0   0  24   72   888\n",
       "m           904    67  103.8   0   0  24   72   888\n",
       "pp          516  68.2   98.6   0   0  24   96   768\n",
       "MA          566  59.5   83.9   0   0  24   72   672\n",
       "bu          645  59.1   93.1   0   0  24   72   888\n",
       "l           643  86.1  131.7   0   0  24  120  1032\n",
       "p           899  62.9   92.8   0   0  24   72   696\n",
       "v           677    90  139.3   0  24  48   96  1128\n",
       "CF          821  68.1  115.3   0   0  24   72  1008\n",
       "OI          731  57.8   90.7   0   0  24   72   720\n",
       "SR          901  62.6   95.9   0   0  24   72   984\n",
       "TA          869  63.8  109.2   0   0  24   72  1032\n",
       "SA          172  66.8  108.1   0   0  24   72   816\n",
       "portfolio  4957  71.8  115.3   0   0  24   96  1320"
      ]
     },
     "execution_count": 124,
     "metadata": {},
     "output_type": "execute_result"
    }
   ],
   "source": [
    "HTA # Holding Period Time"
   ]
  },
  {
   "cell_type": "code",
   "execution_count": 134,
   "metadata": {},
   "outputs": [],
   "source": [
    "HTA.to_csv(f'./output/v_analysis/{_C.VERSION}/HTA.csv')"
   ]
  },
  {
   "cell_type": "markdown",
   "metadata": {},
   "source": [
    "#### Daily Trade Num"
   ]
  },
  {
   "cell_type": "code",
   "execution_count": 128,
   "metadata": {},
   "outputs": [],
   "source": [
    "trade_num = {}\n",
    "F_data = pd.read_pickle(f'dataset/F_data_{_C.TIME_FRAME}.pkl')\n",
    "VTD = F_data['VTD']\n",
    "all_trade_num = pd.Series([0 for i in range(len(VTD))])\n",
    "\n",
    "for com in _D.commodities.keys():\n",
    "    tn = [0 for i in range(len(VTD))]\n",
    "    com_log = trading_logs[com]\n",
    "    _df = com_log[2].copy(deep=True)\n",
    "\n",
    "    for i in range(_df.shape[0]):\n",
    "        entry = _df.iloc[i]\n",
    "        tn[VTD.index(entry['open_date'])] += 1\n",
    "        tn[VTD.index(entry['close_date'])] += 1\n",
    "    \n",
    "    trade_num[com] = tn\n",
    "    if com in PORTFOLIO:\n",
    "        all_trade_num += pd.Series(tn)\n",
    "\n",
    "trade_num['portfolio'] = all_trade_num.to_list()"
   ]
  },
  {
   "cell_type": "code",
   "execution_count": 130,
   "metadata": {},
   "outputs": [],
   "source": [
    "DTN = pd.DataFrame()\n",
    "DTN = DTN.reindex(VTD)\n",
    "\n",
    "for com in symbols:\n",
    "    DTN[com] = trade_num[com]"
   ]
  },
  {
   "cell_type": "code",
   "execution_count": 131,
   "metadata": {},
   "outputs": [
    {
     "data": {
      "text/html": [
       "<div>\n",
       "<style scoped>\n",
       "    .dataframe tbody tr th:only-of-type {\n",
       "        vertical-align: middle;\n",
       "    }\n",
       "\n",
       "    .dataframe tbody tr th {\n",
       "        vertical-align: top;\n",
       "    }\n",
       "\n",
       "    .dataframe thead th {\n",
       "        text-align: right;\n",
       "    }\n",
       "</style>\n",
       "<table border=\"1\" class=\"dataframe\">\n",
       "  <thead>\n",
       "    <tr style=\"text-align: right;\">\n",
       "      <th></th>\n",
       "      <th>rb</th>\n",
       "      <th>hc</th>\n",
       "      <th>i</th>\n",
       "      <th>m</th>\n",
       "      <th>pp</th>\n",
       "      <th>MA</th>\n",
       "      <th>bu</th>\n",
       "      <th>l</th>\n",
       "      <th>p</th>\n",
       "      <th>v</th>\n",
       "      <th>CF</th>\n",
       "      <th>OI</th>\n",
       "      <th>SR</th>\n",
       "      <th>TA</th>\n",
       "      <th>SA</th>\n",
       "      <th>portfolio</th>\n",
       "    </tr>\n",
       "  </thead>\n",
       "  <tbody>\n",
       "    <tr>\n",
       "      <th>2010-01-04</th>\n",
       "      <td>0</td>\n",
       "      <td>0</td>\n",
       "      <td>0</td>\n",
       "      <td>0</td>\n",
       "      <td>0</td>\n",
       "      <td>0</td>\n",
       "      <td>0</td>\n",
       "      <td>0</td>\n",
       "      <td>0</td>\n",
       "      <td>0</td>\n",
       "      <td>0</td>\n",
       "      <td>0</td>\n",
       "      <td>0</td>\n",
       "      <td>0</td>\n",
       "      <td>0</td>\n",
       "      <td>0</td>\n",
       "    </tr>\n",
       "    <tr>\n",
       "      <th>2010-01-05</th>\n",
       "      <td>0</td>\n",
       "      <td>0</td>\n",
       "      <td>0</td>\n",
       "      <td>0</td>\n",
       "      <td>0</td>\n",
       "      <td>0</td>\n",
       "      <td>0</td>\n",
       "      <td>0</td>\n",
       "      <td>0</td>\n",
       "      <td>2</td>\n",
       "      <td>0</td>\n",
       "      <td>0</td>\n",
       "      <td>0</td>\n",
       "      <td>0</td>\n",
       "      <td>0</td>\n",
       "      <td>2</td>\n",
       "    </tr>\n",
       "    <tr>\n",
       "      <th>2010-01-06</th>\n",
       "      <td>0</td>\n",
       "      <td>0</td>\n",
       "      <td>0</td>\n",
       "      <td>2</td>\n",
       "      <td>0</td>\n",
       "      <td>0</td>\n",
       "      <td>0</td>\n",
       "      <td>0</td>\n",
       "      <td>0</td>\n",
       "      <td>1</td>\n",
       "      <td>0</td>\n",
       "      <td>0</td>\n",
       "      <td>1</td>\n",
       "      <td>0</td>\n",
       "      <td>0</td>\n",
       "      <td>1</td>\n",
       "    </tr>\n",
       "    <tr>\n",
       "      <th>2010-01-07</th>\n",
       "      <td>1</td>\n",
       "      <td>0</td>\n",
       "      <td>0</td>\n",
       "      <td>1</td>\n",
       "      <td>0</td>\n",
       "      <td>0</td>\n",
       "      <td>0</td>\n",
       "      <td>3</td>\n",
       "      <td>0</td>\n",
       "      <td>1</td>\n",
       "      <td>1</td>\n",
       "      <td>0</td>\n",
       "      <td>2</td>\n",
       "      <td>3</td>\n",
       "      <td>0</td>\n",
       "      <td>6</td>\n",
       "    </tr>\n",
       "    <tr>\n",
       "      <th>2010-01-08</th>\n",
       "      <td>0</td>\n",
       "      <td>0</td>\n",
       "      <td>0</td>\n",
       "      <td>0</td>\n",
       "      <td>0</td>\n",
       "      <td>0</td>\n",
       "      <td>0</td>\n",
       "      <td>0</td>\n",
       "      <td>0</td>\n",
       "      <td>0</td>\n",
       "      <td>0</td>\n",
       "      <td>0</td>\n",
       "      <td>1</td>\n",
       "      <td>0</td>\n",
       "      <td>0</td>\n",
       "      <td>0</td>\n",
       "    </tr>\n",
       "    <tr>\n",
       "      <th>...</th>\n",
       "      <td>...</td>\n",
       "      <td>...</td>\n",
       "      <td>...</td>\n",
       "      <td>...</td>\n",
       "      <td>...</td>\n",
       "      <td>...</td>\n",
       "      <td>...</td>\n",
       "      <td>...</td>\n",
       "      <td>...</td>\n",
       "      <td>...</td>\n",
       "      <td>...</td>\n",
       "      <td>...</td>\n",
       "      <td>...</td>\n",
       "      <td>...</td>\n",
       "      <td>...</td>\n",
       "      <td>...</td>\n",
       "    </tr>\n",
       "    <tr>\n",
       "      <th>2022-08-15</th>\n",
       "      <td>1</td>\n",
       "      <td>2</td>\n",
       "      <td>1</td>\n",
       "      <td>3</td>\n",
       "      <td>1</td>\n",
       "      <td>0</td>\n",
       "      <td>0</td>\n",
       "      <td>1</td>\n",
       "      <td>4</td>\n",
       "      <td>2</td>\n",
       "      <td>0</td>\n",
       "      <td>2</td>\n",
       "      <td>1</td>\n",
       "      <td>0</td>\n",
       "      <td>0</td>\n",
       "      <td>10</td>\n",
       "    </tr>\n",
       "    <tr>\n",
       "      <th>2022-08-16</th>\n",
       "      <td>0</td>\n",
       "      <td>0</td>\n",
       "      <td>1</td>\n",
       "      <td>0</td>\n",
       "      <td>1</td>\n",
       "      <td>0</td>\n",
       "      <td>0</td>\n",
       "      <td>2</td>\n",
       "      <td>0</td>\n",
       "      <td>2</td>\n",
       "      <td>0</td>\n",
       "      <td>1</td>\n",
       "      <td>1</td>\n",
       "      <td>2</td>\n",
       "      <td>1</td>\n",
       "      <td>4</td>\n",
       "    </tr>\n",
       "    <tr>\n",
       "      <th>2022-08-17</th>\n",
       "      <td>0</td>\n",
       "      <td>0</td>\n",
       "      <td>1</td>\n",
       "      <td>0</td>\n",
       "      <td>0</td>\n",
       "      <td>0</td>\n",
       "      <td>0</td>\n",
       "      <td>1</td>\n",
       "      <td>1</td>\n",
       "      <td>0</td>\n",
       "      <td>0</td>\n",
       "      <td>0</td>\n",
       "      <td>3</td>\n",
       "      <td>0</td>\n",
       "      <td>0</td>\n",
       "      <td>2</td>\n",
       "    </tr>\n",
       "    <tr>\n",
       "      <th>2022-08-18</th>\n",
       "      <td>1</td>\n",
       "      <td>1</td>\n",
       "      <td>1</td>\n",
       "      <td>0</td>\n",
       "      <td>1</td>\n",
       "      <td>1</td>\n",
       "      <td>2</td>\n",
       "      <td>1</td>\n",
       "      <td>1</td>\n",
       "      <td>0</td>\n",
       "      <td>1</td>\n",
       "      <td>0</td>\n",
       "      <td>0</td>\n",
       "      <td>2</td>\n",
       "      <td>1</td>\n",
       "      <td>6</td>\n",
       "    </tr>\n",
       "    <tr>\n",
       "      <th>2022-08-19</th>\n",
       "      <td>3</td>\n",
       "      <td>3</td>\n",
       "      <td>2</td>\n",
       "      <td>3</td>\n",
       "      <td>1</td>\n",
       "      <td>1</td>\n",
       "      <td>4</td>\n",
       "      <td>1</td>\n",
       "      <td>1</td>\n",
       "      <td>1</td>\n",
       "      <td>3</td>\n",
       "      <td>0</td>\n",
       "      <td>1</td>\n",
       "      <td>0</td>\n",
       "      <td>0</td>\n",
       "      <td>13</td>\n",
       "    </tr>\n",
       "  </tbody>\n",
       "</table>\n",
       "<p>3070 rows × 16 columns</p>\n",
       "</div>"
      ],
      "text/plain": [
       "            rb  hc  i  m  pp  MA  bu  l  p  v  CF  OI  SR  TA  SA  portfolio\n",
       "2010-01-04   0   0  0  0   0   0   0  0  0  0   0   0   0   0   0          0\n",
       "2010-01-05   0   0  0  0   0   0   0  0  0  2   0   0   0   0   0          2\n",
       "2010-01-06   0   0  0  2   0   0   0  0  0  1   0   0   1   0   0          1\n",
       "2010-01-07   1   0  0  1   0   0   0  3  0  1   1   0   2   3   0          6\n",
       "2010-01-08   0   0  0  0   0   0   0  0  0  0   0   0   1   0   0          0\n",
       "...         ..  .. .. ..  ..  ..  .. .. .. ..  ..  ..  ..  ..  ..        ...\n",
       "2022-08-15   1   2  1  3   1   0   0  1  4  2   0   2   1   0   0         10\n",
       "2022-08-16   0   0  1  0   1   0   0  2  0  2   0   1   1   2   1          4\n",
       "2022-08-17   0   0  1  0   0   0   0  1  1  0   0   0   3   0   0          2\n",
       "2022-08-18   1   1  1  0   1   1   2  1  1  0   1   0   0   2   1          6\n",
       "2022-08-19   3   3  2  3   1   1   4  1  1  1   3   0   1   0   0         13\n",
       "\n",
       "[3070 rows x 16 columns]"
      ]
     },
     "execution_count": 131,
     "metadata": {},
     "output_type": "execute_result"
    }
   ],
   "source": [
    "DTN # Daily Trade Num"
   ]
  },
  {
   "cell_type": "code",
   "execution_count": 132,
   "metadata": {},
   "outputs": [
    {
     "data": {
      "text/plain": [
       "<matplotlib.axes._subplots.AxesSubplot at 0x67819759a0>"
      ]
     },
     "execution_count": 132,
     "metadata": {},
     "output_type": "execute_result"
    },
    {
     "data": {
      "image/png": "[encoded data removed]",
      "text/plain": [
       "<Figure size 432x288 with 1 Axes>"
      ]
     },
     "metadata": {
      "needs_background": "light"
     },
     "output_type": "display_data"
    }
   ],
   "source": [
    "DTN['portfolio'].hist()"
   ]
  },
  {
   "cell_type": "code",
   "execution_count": 133,
   "metadata": {},
   "outputs": [],
   "source": [
    "DTN.to_csv(f'./output/v_analysis/{_C.VERSION}/DTN.csv')"
   ]
  },
  {
   "cell_type": "markdown",
   "metadata": {},
   "source": [
    "### Version Comparation"
   ]
  },
  {
   "cell_type": "code",
   "execution_count": 35,
   "metadata": {},
   "outputs": [
    {
     "data": {
      "text/plain": [
       "dict_keys(['rb', 'hc', 'i', 'm', 'pp', 'MA', 'bu', 'l', 'p', 'v', 'CF', 'OI', 'SR', 'TA', 'SA', 'total'])"
      ]
     },
     "execution_count": 35,
     "metadata": {},
     "output_type": "execute_result"
    }
   ],
   "source": [
    "Pnl.keys()"
   ]
  },
  {
   "cell_type": "code",
   "execution_count": 50,
   "metadata": {},
   "outputs": [
    {
     "data": {
      "image/png": "[encoded data removed]",
      "text/plain": [
       "<Figure size 800x400 with 1 Axes>"
      ]
     },
     "metadata": {
      "needs_background": "light"
     },
     "output_type": "display_data"
    }
   ],
   "source": [
    "draw_pnl('SA')"
   ]
  }
 ],
 "metadata": {
  "kernelspec": {
   "display_name": "Python 3.8.5 ('base')",
   "language": "python",
   "name": "python3"
  },
  "language_info": {
   "codemirror_mode": {
    "name": "ipython",
    "version": 3
   },
   "file_extension": ".py",
   "mimetype": "text/x-python",
   "name": "python",
   "nbconvert_exporter": "python",
   "pygments_lexer": "ipython3",
   "version": "3.8.5"
  },
  "orig_nbformat": 4,
  "vscode": {
   "interpreter": {
    "hash": "ad2bdc8ecc057115af97d19610ffacc2b4e99fae6737bb82f5d7fb13d2f2c186"
   }
  }
 },
 "nbformat": 4,
 "nbformat_minor": 2
}
